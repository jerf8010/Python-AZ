{
 "cells": [
  {
   "cell_type": "markdown",
   "id": "547a3b90",
   "metadata": {},
   "source": [
    "# Funciones lambda"
   ]
  },
  {
   "cell_type": "code",
   "execution_count": 3,
   "id": "f7d53ad1",
   "metadata": {},
   "outputs": [
    {
     "name": "stdout",
     "output_type": "stream",
     "text": [
      "24\n"
     ]
    }
   ],
   "source": [
    "n = lambda a: a * (a + 1) * (a - 1)\n",
    "print(n(3))"
   ]
  },
  {
   "cell_type": "code",
   "execution_count": 8,
   "id": "4d2a7eef",
   "metadata": {},
   "outputs": [
    {
     "data": {
      "text/plain": [
       "'El primero es mayor'"
      ]
     },
     "execution_count": 8,
     "metadata": {},
     "output_type": "execute_result"
    }
   ],
   "source": [
    "valida = lambda a, b: \"El primero es mayor\" if a > b else \"El segundo es mayor\"\n",
    "valida(4,3)"
   ]
  },
  {
   "cell_type": "code",
   "execution_count": 25,
   "id": "bf6bb1c5",
   "metadata": {},
   "outputs": [
    {
     "name": "stdout",
     "output_type": "stream",
     "text": [
      "adios\n"
     ]
    },
    {
     "data": {
      "text/plain": [
       "['adios', 'Emanuel']"
      ]
     },
     "execution_count": 25,
     "metadata": {},
     "output_type": "execute_result"
    }
   ],
   "source": [
    "ls = [\"hola\", \"adios\", \"bosque\", \"mar\", \"Emanuel\"]\n",
    "\n",
    "def mas_vocales_que_conson(word):\n",
    "    \n",
    "    word = word.lower()\n",
    "    count_vocales = 0\n",
    "    count_consonantes = 0\n",
    "    \n",
    "    for i in word:\n",
    "        if i == 'a' or i == 'e' or i == 'i'  or i == 'o' or i == 'u':\n",
    "            count_vocales += 1\n",
    "        else:\n",
    "            count_consonantes += 1\n",
    "    \n",
    "    if count_vocales > count_consonantes:\n",
    "        return word\n",
    "    \n",
    "        \n",
    "list(filter(mas_vocales_que_conson, ls))\n",
    "        "
   ]
  },
  {
   "cell_type": "code",
   "execution_count": 27,
   "id": "c39a9381",
   "metadata": {},
   "outputs": [
    {
     "data": {
      "text/plain": [
       "[20, 40, 100]"
      ]
     },
     "execution_count": 27,
     "metadata": {},
     "output_type": "execute_result"
    }
   ],
   "source": [
    "ls1 = [1,4,3,5,7,1,2,4, 20, 40, 100]\n",
    "\n",
    "\n",
    "def masDecinco(numero):\n",
    "    \n",
    "    count = 0\n",
    "    for i in range(1, numero + 1):\n",
    "        if numero % i == 0:\n",
    "            count += 1\n",
    "        else:\n",
    "            continue\n",
    "    if count >= 5:\n",
    "        return numero\n",
    "    \n",
    "list(filter(masDecinco, ls1))\n",
    "    "
   ]
  },
  {
   "cell_type": "code",
   "execution_count": 31,
   "id": "3145589d",
   "metadata": {},
   "outputs": [
    {
     "data": {
      "text/plain": [
       "'popocatepetl'"
      ]
     },
     "execution_count": 31,
     "metadata": {},
     "output_type": "execute_result"
    }
   ],
   "source": [
    "from functools import reduce\n",
    "ls2 = [\"hola\", \"popocatepetl\", \"adios\", \"bosque\", \"mar\", \"Emanuel\"]\n",
    "\n",
    "\n",
    "reduce(lambda palabra1, palabra2: palabra1 if len(palabra1) >= len(palabra2) else palabra2, ls2)\n"
   ]
  },
  {
   "cell_type": "code",
   "execution_count": 35,
   "id": "8f6bd8ee",
   "metadata": {},
   "outputs": [
    {
     "data": {
      "text/plain": [
       "[2, 5, 3, 3, 1, 4]"
      ]
     },
     "execution_count": 35,
     "metadata": {},
     "output_type": "execute_result"
    }
   ],
   "source": [
    "ls3 = [\"hola\", \"popocatepetl\", \"adios\", \"bosque\", \"mar\", \"Emanuel\"]\n",
    "\n",
    "def numDevocales(word):\n",
    "    \n",
    "    word = word.lower()\n",
    "    count_vocales = 0\n",
    "    for i in word:\n",
    "        if i == 'a' or i == 'e' or i == 'i'  or i == 'o' or i == 'u':\n",
    "            count_vocales += 1\n",
    "    return count_vocales\n",
    "\n",
    "list(map(numDevocales, ls3))\n",
    "    "
   ]
  },
  {
   "cell_type": "code",
   "execution_count": 113,
   "id": "0123e2f9",
   "metadata": {},
   "outputs": [
    {
     "data": {
      "text/plain": [
       "'Emanuel'"
      ]
     },
     "execution_count": 113,
     "metadata": {},
     "output_type": "execute_result"
    }
   ],
   "source": [
    "ls3 = [\"hola\", \"popocatepetl\", \"adios\", \"bosque\", \"mar\", \"Emanuel\"]\n",
    "\n",
    "def numConsonantes(word):\n",
    "    \n",
    "    word = word.lower()\n",
    "    count_consonantes = 0\n",
    "    for i in word:\n",
    "        if i == 'a' or i == 'e' or i == 'i'  or i == 'o' or i == 'u':\n",
    "            continue\n",
    "        else:\n",
    "            count_consonantes += 1\n",
    "    return count_consonantes\n",
    "\n",
    "def mayorNum(numero1, numero2):\n",
    "    if numero1 > numero2:\n",
    "        return numero1\n",
    "    else:\n",
    "        return numero2\n",
    "\n",
    "\n",
    "def comparador(word):\n",
    "    \n",
    "    #palabra = palabra.lower()\n",
    "    if len(word) == reduce(mayorNum, list(map(numConsonantes, ls3))):\n",
    "        return word\n",
    "    else:\n",
    "        return \"\"\n",
    "    \n",
    "reduce(lambda palabra1, palabra2: palabra1 if len(palabra1) > len(palabra2) else palabra2, list(map(comparador, ls3)))\n",
    "\n",
    "\n",
    "\n"
   ]
  },
  {
   "cell_type": "code",
   "execution_count": 114,
   "id": "3550caea",
   "metadata": {},
   "outputs": [
    {
     "data": {
      "text/plain": [
       "[0, 3, 2, 4, 6, 0, 1, 3, 19, 39, 99]"
      ]
     },
     "execution_count": 114,
     "metadata": {},
     "output_type": "execute_result"
    }
   ],
   "source": [
    "ls1 = [1,4,3,5,7,1,2,4, 20, 40, 100]\n",
    "\n",
    "list(map(lambda x: x-1, ls1))"
   ]
  },
  {
   "cell_type": "code",
   "execution_count": 116,
   "id": "68d7dadf",
   "metadata": {},
   "outputs": [
    {
     "data": {
      "text/plain": [
       "[-1, 3, 4, -5, 9, -10, -20]"
      ]
     },
     "execution_count": 116,
     "metadata": {},
     "output_type": "execute_result"
    }
   ],
   "source": [
    "ls6 = [-20, 9, -1, 3, 4, -5, -10]\n",
    "\n",
    "sorted(ls6, key = abs)"
   ]
  },
  {
   "cell_type": "code",
   "execution_count": 117,
   "id": "21608ed1",
   "metadata": {},
   "outputs": [
    {
     "data": {
      "text/plain": [
       "['hola', 'adios', 'mar', 'bosque', 'Emanuel', 'popocatepetl']"
      ]
     },
     "execution_count": 117,
     "metadata": {},
     "output_type": "execute_result"
    }
   ],
   "source": [
    "ls3 = [\"hola\", \"popocatepetl\", \"adios\", \"bosque\", \"mar\", \"Emanuel\"]\n",
    "\n",
    "sorted(ls3, key = numConsonantes)"
   ]
  }
 ],
 "metadata": {
  "kernelspec": {
   "display_name": "Python 3",
   "language": "python",
   "name": "python3"
  },
  "language_info": {
   "codemirror_mode": {
    "name": "ipython",
    "version": 3
   },
   "file_extension": ".py",
   "mimetype": "text/x-python",
   "name": "python",
   "nbconvert_exporter": "python",
   "pygments_lexer": "ipython3",
   "version": "3.8.10"
  }
 },
 "nbformat": 4,
 "nbformat_minor": 5
}
