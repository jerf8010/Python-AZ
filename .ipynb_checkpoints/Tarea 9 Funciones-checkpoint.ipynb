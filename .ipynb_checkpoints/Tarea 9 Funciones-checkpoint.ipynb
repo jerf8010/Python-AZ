{
 "cells": [
  {
   "cell_type": "markdown",
   "metadata": {},
   "source": [
    "# Funciones"
   ]
  },
  {
   "cell_type": "code",
   "execution_count": 10,
   "metadata": {},
   "outputs": [
    {
     "data": {
      "text/plain": [
       "[1, 3, 7, 21]"
      ]
     },
     "execution_count": 10,
     "metadata": {},
     "output_type": "execute_result"
    }
   ],
   "source": [
    "def divisores(entero):\n",
    "    entero = int(entero)\n",
    "    divisors = []\n",
    "    for i in range(1, entero + 1):\n",
    "        if entero % i == 0:\n",
    "            divisors.append(i)\n",
    "        else:\n",
    "            continue\n",
    "    return divisors\n",
    "\n",
    "divisores(21.5)"
   ]
  },
  {
   "cell_type": "code",
   "execution_count": 15,
   "metadata": {},
   "outputs": [
    {
     "data": {
      "text/plain": [
       "7"
      ]
     },
     "execution_count": 15,
     "metadata": {},
     "output_type": "execute_result"
    }
   ],
   "source": [
    "def mayor_real(x1, x2):\n",
    "    if x1 > x2:\n",
    "        return x1\n",
    "    elif x2 > x1:\n",
    "        return x2\n",
    "    else:\n",
    "        return x1\n",
    "    \n",
    "mayor_real(7,3)"
   ]
  },
  {
   "cell_type": "code",
   "execution_count": 18,
   "metadata": {},
   "outputs": [
    {
     "data": {
      "text/plain": [
       "0"
      ]
     },
     "execution_count": 18,
     "metadata": {},
     "output_type": "execute_result"
    }
   ],
   "source": [
    "def absoluto(x):\n",
    "    if x >= 0:\n",
    "        return x\n",
    "    else:\n",
    "        return -x\n",
    "    \n",
    "absoluto(0)"
   ]
  },
  {
   "cell_type": "code",
   "execution_count": 38,
   "metadata": {},
   "outputs": [
    {
     "data": {
      "text/plain": [
       "True"
      ]
     },
     "execution_count": 38,
     "metadata": {},
     "output_type": "execute_result"
    }
   ],
   "source": [
    "def vocal(letra):\n",
    "    letra = letra.lower()\n",
    "    if letra in ['a', 'e', 'i', 'o', 'u']:\n",
    "        return True\n",
    "    else:\n",
    "        return False\n",
    "    \n",
    "vocal('E')"
   ]
  },
  {
   "cell_type": "code",
   "execution_count": 25,
   "metadata": {},
   "outputs": [
    {
     "data": {
      "text/plain": [
       "8"
      ]
     },
     "execution_count": 25,
     "metadata": {},
     "output_type": "execute_result"
    }
   ],
   "source": [
    "def MCD(x1,x2):\n",
    "    div1 = set(divisores(x1))\n",
    "    div2 = set(divisores(x2))\n",
    "    set3 = div1 & div2\n",
    "    div_comunes = list(set3)\n",
    "    return max(div_comunes)\n",
    "\n",
    "MCD(16,24)\n",
    "    \n",
    "   "
   ]
  },
  {
   "cell_type": "code",
   "execution_count": 29,
   "metadata": {},
   "outputs": [
    {
     "data": {
      "text/plain": [
       "48"
      ]
     },
     "execution_count": 29,
     "metadata": {},
     "output_type": "execute_result"
    }
   ],
   "source": [
    "def mcm(x1, x2):\n",
    "    multiplos = []\n",
    "    for i in range(mayor_real(x1,x2), x1 * x2 + 1):\n",
    "        if i % x1 == 0 and i % x2 == 0:\n",
    "            multiplos.append(i)\n",
    "    return min(multiplos)\n",
    "\n",
    "mcm(16, 24)"
   ]
  },
  {
   "cell_type": "code",
   "execution_count": 44,
   "metadata": {},
   "outputs": [
    {
     "name": "stdout",
     "output_type": "stream",
     "text": [
      "Ana es palíndroma\n"
     ]
    }
   ],
   "source": [
    "def palindromo(word):\n",
    "    word0 = word.lower()\n",
    "    word1 = word0[::-1]\n",
    "    if word0 == word1:\n",
    "        print(\"{} es palíndroma\".format(word))\n",
    "    else:\n",
    "        print(\"{} no es palíndroma\".format(word))\n",
    "        \n",
    "palindromo(\"Ana\")"
   ]
  },
  {
   "cell_type": "code",
   "execution_count": 53,
   "metadata": {},
   "outputs": [
    {
     "data": {
      "text/plain": [
       "[0, 187, 255]"
      ]
     },
     "execution_count": 53,
     "metadata": {},
     "output_type": "execute_result"
    }
   ],
   "source": [
    "def rgb(hexadecimal):\n",
    "    r = int(hexadecimal[:2], 16)\n",
    "    g = int(hexadecimal[2:4], 16)\n",
    "    b = int(hexadecimal[4:], 16)\n",
    "    RGB = [r,g,b]\n",
    "    return RGB\n",
    "\n",
    "rgb(\"00BBFF\")"
   ]
  },
  {
   "cell_type": "code",
   "execution_count": 54,
   "metadata": {},
   "outputs": [
    {
     "data": {
      "text/plain": [
       "{'longitud par': 1, 'longitud impar': 3}"
      ]
     },
     "execution_count": 54,
     "metadata": {},
     "output_type": "execute_result"
    }
   ],
   "source": [
    "def diccionario(lista):\n",
    "    dic = {}\n",
    "    par = 0\n",
    "    impar = 0\n",
    "    for word in lista:\n",
    "        if len(word) % 2 == 0:\n",
    "            par += 1\n",
    "        else:\n",
    "            impar += 1\n",
    "            \n",
    "    dic[\"longitud par\"] = par\n",
    "    dic[\"longitud impar\"] = impar\n",
    "    return dic\n",
    "\n",
    "diccionario([\"hola\", \"adios\", \"ele\", \"emanuel\"])"
   ]
  },
  {
   "cell_type": "code",
   "execution_count": 76,
   "metadata": {},
   "outputs": [
    {
     "data": {
      "text/plain": [
       "{'a': 3, 'l': 1, 'o': 1, 'h': 1}"
      ]
     },
     "execution_count": 76,
     "metadata": {},
     "output_type": "execute_result"
    }
   ],
   "source": [
    "def contador(string):\n",
    "    l = []\n",
    "    dic = {}\n",
    "    l.extend(string)\n",
    "    \n",
    "    for i in l:\n",
    "        count = 0\n",
    "        for j in l:\n",
    "            if i == j:\n",
    "                count += 1\n",
    "        dic[i] = count\n",
    "    return dic\n",
    "\n",
    "contador(\"alohaa\")"
   ]
  },
  {
   "cell_type": "code",
   "execution_count": 4,
   "metadata": {},
   "outputs": [
    {
     "data": {
      "text/plain": [
       "[[0, 1], [2, 1], [2, 3], [0, 3]]"
      ]
     },
     "execution_count": 4,
     "metadata": {},
     "output_type": "execute_result"
    }
   ],
   "source": [
    "def VerticesSquare(P = [0, 0], l = 1):\n",
    "    \n",
    "    vertices = []\n",
    "    vertices.append(P)\n",
    "    vertices.append([P[0] + l, P[1]])\n",
    "    vertices.append([P[0] + l , P[1] + l])\n",
    "    vertices.append([P[0] , P[1] + l])\n",
    "    \n",
    "    return vertices\n",
    "\n",
    "VerticesSquare([0,1], 2)"
   ]
  }
 ],
 "metadata": {
  "kernelspec": {
   "display_name": "Python 3",
   "language": "python",
   "name": "python3"
  },
  "language_info": {
   "codemirror_mode": {
    "name": "ipython",
    "version": 3
   },
   "file_extension": ".py",
   "mimetype": "text/x-python",
   "name": "python",
   "nbconvert_exporter": "python",
   "pygments_lexer": "ipython3",
   "version": "3.8.5"
  }
 },
 "nbformat": 4,
 "nbformat_minor": 4
}
