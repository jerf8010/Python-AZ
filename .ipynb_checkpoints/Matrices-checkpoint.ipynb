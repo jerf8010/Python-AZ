{
 "cells": [
  {
   "cell_type": "code",
   "execution_count": 2,
   "metadata": {},
   "outputs": [
    {
     "name": "stdout",
     "output_type": "stream",
     "text": [
      "Introduce el elemento (0,0): 1\n",
      "Introduce el elemento (0,1): 2\n",
      "Introduce el elemento (0,2): 3\n",
      "Introduce el elemento (0,3): 4\n",
      "Introduce el elemento (1,0): 0\n",
      "Introduce el elemento (1,1): -1\n",
      "Introduce el elemento (1,2): -2\n",
      "Introduce el elemento (1,3): -3\n",
      "Introduce el elemento (2,0): -4\n",
      "Introduce el elemento (2,1): -5\n",
      "Introduce el elemento (2,2): -6\n",
      "Introduce el elemento (2,3): -7\n",
      "Introduce el elemento (3,0): 0\n",
      "Introduce el elemento (3,1): 1\n",
      "Introduce el elemento (3,2): 2\n",
      "Introduce el elemento (3,3): 3\n",
      "1.0  2.0  3.0  4.0  \n",
      "0.0  -1.0 -2.0 -3.0 \n",
      "-4.0 -5.0 -6.0 -7.0 \n",
      "0.0  1.0  2.0  3.0  \n"
     ]
    }
   ],
   "source": [
    "A=[]\n",
    "for i in range(4):\n",
    "    A.append([])\n",
    "    for j in range(4):\n",
    "        A[i].append(float(input(\"Introduce el elemento ({},{}): \".format(i,j))))\n",
    "        \n",
    "for i in range(4):\n",
    "    for j in range(4):\n",
    "        print(A[i][j], end=\"  \" if A[i][j]>=0 else \" \")\n",
    "    print(\"\")\n"
   ]
  },
  {
   "cell_type": "code",
   "execution_count": 3,
   "metadata": {},
   "outputs": [
    {
     "name": "stdout",
     "output_type": "stream",
     "text": [
      "número de filas: 2\n",
      "número de columnas: 2\n",
      "\n",
      " Matriz A \n",
      "\n",
      "Introduce el elemento (0,0) de la matriz A: 1\n",
      "Introduce el elemento (0,1) de la matriz A: 2\n",
      "Introduce el elemento (1,0) de la matriz A: 3\n",
      "Introduce el elemento (1,1) de la matriz A: 4\n",
      "\n",
      " Matriz B \n",
      "\n",
      "Introduce el elemento (0,0) de la matriz B: 4\n",
      "Introduce el elemento (0,1) de la matriz B: 5\n",
      "Introduce el elemento (1,0) de la matriz B: 6\n",
      "Introduce el elemento (1,1) de la matriz B: 7\n",
      "\n",
      " Matriz A + B: \n",
      "5.0 7.0 \n",
      "9.0 11.0 \n"
     ]
    }
   ],
   "source": [
    "n = int(input(\"número de filas: \"))\n",
    "m = int(input(\"número de columnas: \"))\n",
    "A=[]\n",
    "print(\"\\n Matriz A \\n\")\n",
    "for i in range(n):\n",
    "    A.append([])\n",
    "    for j in range(m):\n",
    "        A[i].append(float(input(\"Introduce el elemento ({},{}) de la matriz A: \".format(i,j))))\n",
    "        \n",
    "B=[]\n",
    "print(\"\\n Matriz B \\n\")\n",
    "for i in range(n):\n",
    "    B.append([])\n",
    "    for j in range(m):\n",
    "        B[i].append(float(input(\"Introduce el elemento ({},{}) de la matriz B: \".format(i,j))))\n",
    "\n",
    "C=[]\n",
    "for i in range(n):\n",
    "    C.append([])\n",
    "    for j in range(m):\n",
    "        C[i].append(A[i][j]+B[i][j])\n",
    "        \n",
    "print(\"\\n Matriz A + B: \")\n",
    "for i in range(n):\n",
    "    for j in range(m):\n",
    "        print(C[i][j], end=\" \")\n",
    "    print(\"\")\n"
   ]
  },
  {
   "cell_type": "code",
   "execution_count": 10,
   "metadata": {},
   "outputs": [
    {
     "name": "stdout",
     "output_type": "stream",
     "text": [
      "número de filas de A: 2\n",
      "número de columnas de A: 2\n",
      "número de columnas de B: 3\n",
      "\n",
      " Matriz A \n",
      "\n",
      "Introduce el elemento (0,0) de la matriz A: 1\n",
      "Introduce el elemento (0,1) de la matriz A: 0\n",
      "Introduce el elemento (1,0) de la matriz A: 0\n",
      "Introduce el elemento (1,1) de la matriz A: 1\n",
      "\n",
      " Matriz B \n",
      "\n",
      "Introduce el elemento (0,0) de la matriz B: -5\n",
      "Introduce el elemento (0,1) de la matriz B: 4\n",
      "Introduce el elemento (0,2) de la matriz B: 1\n",
      "Introduce el elemento (1,0) de la matriz B: 1\n",
      "Introduce el elemento (1,1) de la matriz B: 0\n",
      "Introduce el elemento (1,2) de la matriz B: 3\n",
      "\n",
      " Matriz A B: \n",
      "-5.0 4.0 1.0 \n",
      "1.0 0.0 3.0 \n"
     ]
    }
   ],
   "source": [
    "n = int(input(\"número de filas de A: \"))\n",
    "m = int(input(\"número de columnas de A: \"))\n",
    "p = int(input(\"número de columnas de B: \"))\n",
    "\n",
    "A=[]\n",
    "print(\"\\n Matriz A \\n\")\n",
    "for i in range(n):\n",
    "    A.append([])\n",
    "    for j in range(m):\n",
    "        A[i].append(float(input(\"Introduce el elemento ({},{}) de la matriz A: \".format(i,j))))\n",
    "        \n",
    "B=[]\n",
    "print(\"\\n Matriz B \\n\")\n",
    "for i in range(m):\n",
    "    B.append([])\n",
    "    for j in range(p):\n",
    "        B[i].append(float(input(\"Introduce el elemento ({},{}) de la matriz B: \".format(i,j))))\n",
    "\n",
    "C=[]\n",
    "for i in range(n):\n",
    "    C.append([])\n",
    "    for j in range(p):\n",
    "        elemento = 0\n",
    "        for k in range(m):\n",
    "            elemento += A[i][k] * B[k][j]\n",
    "        C[i].append(elemento)\n",
    "            \n",
    "            \n",
    "        \n",
    "print(\"\\n Matriz A B: \")\n",
    "for i in range(n):\n",
    "    for j in range(p):\n",
    "        print(C[i][j], end=\" \")\n",
    "    print(\"\")"
   ]
  },
  {
   "cell_type": "code",
   "execution_count": 11,
   "metadata": {},
   "outputs": [
    {
     "name": "stdout",
     "output_type": "stream",
     "text": [
      "Número de filas: 2\n",
      "Número de columnas: 3\n",
      "Introduce el elemento (0,0)2\n",
      "Introduce el elemento (0,1)3\n",
      "Introduce el elemento (0,2)1\n",
      "Introduce el elemento (1,0)0\n",
      "Introduce el elemento (1,1)4\n",
      "Introduce el elemento (1,2)4\n",
      "[[2. 3. 1.]\n",
      " [0. 4. 4.]]\n"
     ]
    }
   ],
   "source": [
    "import numpy as np\n",
    "n = int(input(\"Número de filas: \"))\n",
    "m = int(input(\"Número de columnas: \"))\n",
    "\n",
    "A=np.empty((n,m))\n",
    "\n",
    "for i in range(n):\n",
    "    for j in range(m):\n",
    "        A[i,j]=float(input(\"Introduce el elemento ({},{}): \".format(i,j)))\n",
    "\n",
    "print(A)"
   ]
  },
  {
   "cell_type": "code",
   "execution_count": 13,
   "metadata": {},
   "outputs": [
    {
     "name": "stdout",
     "output_type": "stream",
     "text": [
      "Número de filas: 2\n",
      "Número de columnas: 2\n",
      "Introduce el elemento (0,0): 0\n",
      "Introduce el elemento (0,1): 1\n",
      "Introduce el elemento (1,0): 2\n",
      "Introduce el elemento (1,1): 4\n",
      "Introduce el elemento (0,0): 5\n",
      "Introduce el elemento (0,1): 1\n",
      "Introduce el elemento (1,0): 0\n",
      "Introduce el elemento (1,1): 2\n",
      "[[5. 2.]\n",
      " [2. 6.]]\n",
      "[[5. 2.]\n",
      " [2. 6.]]\n"
     ]
    }
   ],
   "source": [
    "import numpy as np\n",
    "n = int(input(\"Número de filas: \"))\n",
    "m = int(input(\"Número de columnas: \"))\n",
    "\n",
    "A=np.empty((n,m))\n",
    "\n",
    "for i in range(n):\n",
    "    for j in range(m):\n",
    "        A[i,j]=float(input(\"Introduce el elemento ({},{}): \".format(i,j)))\n",
    "        \n",
    "B=np.empty((n,m))\n",
    "\n",
    "for i in range(n):\n",
    "    for j in range(m):\n",
    "        B[i,j]=float(input(\"Introduce el elemento ({},{}): \".format(i,j)))\n",
    "\n",
    "C=np.empty((n,m))\n",
    "\n",
    "for i in range(n):\n",
    "    for j in range(m):\n",
    "        C[i,j]=A[i,j]+B[i,j]\n",
    "\n",
    "print(A+B)\n",
    "\n",
    "print(C)"
   ]
  },
  {
   "cell_type": "code",
   "execution_count": 15,
   "metadata": {},
   "outputs": [
    {
     "name": "stdout",
     "output_type": "stream",
     "text": [
      "Número de filas de A: 2\n",
      "Número de columnas de A: 1\n",
      "Número de columnas de B: 2\n",
      "Introduce el elemento (0,0): 0\n",
      "Introduce el elemento (1,0): 1\n",
      "Introduce el elemento (0,0): 2\n",
      "Introduce el elemento (0,1): 2\n",
      "[[0. 0.]\n",
      " [2. 2.]]\n",
      "[[0. 0.]\n",
      " [2. 2.]]\n"
     ]
    }
   ],
   "source": [
    "import numpy as np\n",
    "n = int(input(\"Número de filas de A: \"))\n",
    "m = int(input(\"Número de columnas de A: \"))\n",
    "p = int(input(\"Número de columnas de B: \"))\n",
    "\n",
    "A=np.empty((n,m))\n",
    "\n",
    "for i in range(n):\n",
    "    for j in range(m):\n",
    "        A[i,j]=float(input(\"Introduce el elemento ({},{}): \".format(i,j)))\n",
    "        \n",
    "B=np.empty((m,p))\n",
    "\n",
    "for i in range(m):\n",
    "    for j in range(p):\n",
    "        B[i,j]=float(input(\"Introduce el elemento ({},{}): \".format(i,j)))\n",
    "\n",
    "print(A*B)\n",
    "print(A.dot(B))\n",
    "\n"
   ]
  },
  {
   "cell_type": "code",
   "execution_count": null,
   "metadata": {},
   "outputs": [],
   "source": []
  }
 ],
 "metadata": {
  "kernelspec": {
   "display_name": "Python 3",
   "language": "python",
   "name": "python3"
  },
  "language_info": {
   "codemirror_mode": {
    "name": "ipython",
    "version": 3
   },
   "file_extension": ".py",
   "mimetype": "text/x-python",
   "name": "python",
   "nbconvert_exporter": "python",
   "pygments_lexer": "ipython3",
   "version": "3.8.5"
  }
 },
 "nbformat": 4,
 "nbformat_minor": 4
}
