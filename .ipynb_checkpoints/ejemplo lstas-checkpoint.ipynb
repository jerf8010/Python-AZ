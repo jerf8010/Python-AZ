{
 "cells": [
  {
   "cell_type": "code",
   "execution_count": 14,
   "metadata": {},
   "outputs": [
    {
     "name": "stdout",
     "output_type": "stream",
     "text": [
      "Introduce la longitud: 5\n",
      "Introduce el numero: 0\n",
      "Introduce el numero: 1\n",
      "Introduce el numero: 2\n",
      "Introduce el numero: 3\n",
      "Introduce el numero: 4\n",
      "Tu lista es:  [0, 1, 2, 3, 4]\n"
     ]
    }
   ],
   "source": [
    "long = int(input(\"Introduce la longitud: \"))\n",
    "list=[]\n",
    "for c in range(long):\n",
    "    n=int(input(\"Introduce el numero: \"))\n",
    "    list.append(n)\n",
    "print(\"Tu lista es: \", list)"
   ]
  },
  {
   "cell_type": "code",
   "execution_count": null,
   "metadata": {},
   "outputs": [],
   "source": []
  }
 ],
 "metadata": {
  "kernelspec": {
   "display_name": "Python 3",
   "language": "python",
   "name": "python3"
  },
  "language_info": {
   "codemirror_mode": {
    "name": "ipython",
    "version": 3
   },
   "file_extension": ".py",
   "mimetype": "text/x-python",
   "name": "python",
   "nbconvert_exporter": "python",
   "pygments_lexer": "ipython3",
   "version": "3.8.5"
  }
 },
 "nbformat": 4,
 "nbformat_minor": 4
}
