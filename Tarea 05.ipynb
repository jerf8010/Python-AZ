{
 "cells": [
  {
   "cell_type": "code",
   "execution_count": 24,
   "metadata": {},
   "outputs": [
    {
     "name": "stdout",
     "output_type": "stream",
     "text": [
      "Introduzca el número de caracteres: 2\n",
      "Introduce el caracter: a\n",
      "Introduce el caracter: b\n",
      "['b', 'a']\n"
     ]
    }
   ],
   "source": [
    "n = int(input(\"Introduzca el número de caracteres: \"))\n",
    "list_0 = []\n",
    "\n",
    "for i in range(n):\n",
    "    char = input(\"Introduce el caracter: \")\n",
    "    list_0.append(char)\n",
    "\n",
    "list_0.reverse()\n",
    "print(list_0)\n",
    "\n",
    "    "
   ]
  },
  {
   "cell_type": "code",
   "execution_count": 26,
   "metadata": {},
   "outputs": [
    {
     "name": "stdout",
     "output_type": "stream",
     "text": [
      "Introduce una frase: hola caracola\n",
      "Introduce otra frase de la misma longitud: adios marieta\n",
      "haodliao sc amraarcioeltaa"
     ]
    }
   ],
   "source": [
    "str_1 = input(\"Introduce una frase: \")\n",
    "str_2 = input(\"Introduce otra frase de la misma longitud: \")\n",
    "\n",
    "stra = []\n",
    "if len(str_1) == len(str_2):\n",
    "    for i in range(len(str_1)):\n",
    "        stra.append(str_1[i]+str_2[i])\n",
    "        print(stra[i], end = \"\")\n",
    "else:\n",
    "    print(\"no tienen la misma longitud \")\n",
    "    "
   ]
  },
  {
   "cell_type": "code",
   "execution_count": 15,
   "metadata": {},
   "outputs": [
    {
     "name": "stdout",
     "output_type": "stream",
     "text": [
      "Introduzca una frase: hola como estan\n",
      "['h', 'l', 'c', 'm', 's', 't', 'n']\n"
     ]
    }
   ],
   "source": [
    "phrase = input(\"Introduzca una frase: \")\n",
    "phrase.lower()\n",
    "str = []\n",
    "\n",
    "for i in range(len(phrase)):\n",
    "    if phrase[i]!=\"a\" and phrase[i]!=\"e\" and phrase[i]!=\"i\" and phrase[i]!=\"o\" and phrase[i]!=\"u\" and phrase[i]!= \" \":\n",
    "        str.append(phrase[i])\n",
    "    else:\n",
    "        continue\n",
    "    \n",
    "print(str)\n",
    "    "
   ]
  },
  {
   "cell_type": "code",
   "execution_count": 37,
   "metadata": {},
   "outputs": [
    {
     "name": "stdout",
     "output_type": "stream",
     "text": [
      "Introduzca una palabra: acurruca\n",
      "La palabra acurruca es palindromo\n"
     ]
    }
   ],
   "source": [
    "str_1 =input(\"Introduzca una palabra: \")\n",
    "str_1.lower()\n",
    "\n",
    "list_0 = []\n",
    "list_1=[]\n",
    "for i in range(len(str_1)):\n",
    "    list_0.append(str_1[i])\n",
    "\n",
    "list_1 = list_0.copy()\n",
    "list_1.reverse()\n",
    "\n",
    "if list_0 == list_1:\n",
    "    print(\"La palabra {} es palindromo\".format(str_1))\n",
    "else:\n",
    "    print(\"La palabra {} no es palindromo\".format(str_1))\n",
    "        "
   ]
  },
  {
   "cell_type": "code",
   "execution_count": 43,
   "metadata": {},
   "outputs": [
    {
     "name": "stdout",
     "output_type": "stream",
     "text": [
      "Introduce el elemento (0,0): -5\n",
      "Introduce el elemento (0,1): 4\n",
      "Introduce el elemento (0,2): 0\n",
      "Introduce el elemento (1,0): 0\n",
      "Introduce el elemento (1,1): -1\n",
      "Introduce el elemento (1,2): -3\n",
      "Introduce el elemento (2,0): 4\n",
      "Introduce el elemento (2,1): 1\n",
      "Introduce el elemento (2,2): 10\n",
      "El máximo elemento de la fila 0 es 4.0\n",
      "El máximo elemento de la fila 1 es 0.0\n",
      "El máximo elemento de la fila 2 es 10.0\n"
     ]
    }
   ],
   "source": [
    "import numpy as np\n",
    "\n",
    "A=np.empty((3,3))\n",
    "for i in range(3):\n",
    "    for j in range(3):\n",
    "        A[i,j] = int (input(\"Introduce el elemento ({},{}): \".format(i,j)))\n",
    "        \n",
    "for i in range(3):\n",
    "    for j in range(3):\n",
    "        if A[i,j ] > A[i,j-1]:\n",
    "            continue\n",
    "        else:\n",
    "            A[i,j] = A[i,j-1]\n",
    "    print(\"El máximo elemento de la fila {} es {}\".format(i,A[i,j]))"
   ]
  },
  {
   "cell_type": "code",
   "execution_count": 106,
   "metadata": {},
   "outputs": [
    {
     "name": "stdout",
     "output_type": "stream",
     "text": [
      "Ingresa el orden de la matriz: 3\n",
      "[0, 1, 2]  \n",
      "[3, 4, 5]  \n",
      "[6, 7, 8]  \n"
     ]
    }
   ],
   "source": [
    "n = int(input(\"Ingresa el orden de la matriz: \"))\n",
    "A=[[]]\n",
    "\n",
    "for j in range(n):\n",
    "    A[0].append(j)\n",
    "\n",
    "for i in range(1,n):\n",
    "    A.append([])\n",
    "    for j in range(0,n):\n",
    "        A[i].append(A[i-1][j]+n)\n",
    "        \n",
    "for i in range(n):\n",
    "        print(A[i], \" \")\n",
    "\n",
    "    "
   ]
  },
  {
   "cell_type": "code",
   "execution_count": 146,
   "metadata": {},
   "outputs": [
    {
     "name": "stdout",
     "output_type": "stream",
     "text": [
      "Introduce elnúmero de filas: 3\n",
      "Introduce elnúmero de columnas: 2\n",
      "Introduce la entrada (0,0): 0\n",
      "Introduce la entrada (0,1): 3\n",
      "Introduce la entrada (1,0): 2\n",
      "Introduce la entrada (1,1): 2\n",
      "Introduce la entrada (2,0): 3\n",
      "Introduce la entrada (2,1): 0\n",
      "[[0. 3.]\n",
      " [2. 2.]\n",
      " [3. 0.]]\n",
      "El valor de la suma de cada columna es el mismo\n"
     ]
    }
   ],
   "source": [
    "import numpy as np\n",
    "n=int(input(\"Introduce elnúmero de filas: \"))\n",
    "m=int(input(\"Introduce elnúmero de columnas: \"))\n",
    "\n",
    "A=np.empty((n,m))\n",
    "for i in range(n):\n",
    "    for j in range(m):\n",
    "        A[i,j]=float(input(\"Introduce la entrada ({},{}): \".format(i,j)))\n",
    "print(A)\n",
    "\n",
    "c=np.empty((m))\n",
    "for i in range(m):\n",
    "    c_i=0\n",
    "    for j in range(n):\n",
    "        c_i = c_i + A[j,i] \n",
    "    c[i]=c_i\n",
    "\n",
    "R=np.empty((m))\n",
    "for j in range(m):\n",
    "    R[j]=c[0]\n",
    "    \n",
    "value = True\n",
    "for i in range(m):\n",
    "    if R[i]-c[i] == 0:\n",
    "        value =value and True\n",
    "    else:\n",
    "        value=value and False\n",
    "\n",
    "if value == True:\n",
    "    print(\"El valor de la suma de cada columna es el mismo\")\n",
    "else:\n",
    "     print(\"El valor de la suma de cada columna no es el mismo\")\n",
    "\n",
    "\n",
    "            "
   ]
  },
  {
   "cell_type": "code",
   "execution_count": 156,
   "metadata": {},
   "outputs": [
    {
     "name": "stdout",
     "output_type": "stream",
     "text": [
      "Introduce la dimensión de la matriz: 3\n",
      "Introduce la entrada (0,0): 1\n",
      "Introduce la entrada (0,1): 0\n",
      "Introduce la entrada (0,2): 0\n",
      "Introduce la entrada (1,0): 0\n",
      "Introduce la entrada (1,1): 1\n",
      "Introduce la entrada (1,2): 0\n",
      "Introduce la entrada (2,0): 0\n",
      "Introduce la entrada (2,1): 0\n",
      "Introduce la entrada (2,2): 1\n",
      "Usted introdujo la matriz identidad\n"
     ]
    }
   ],
   "source": [
    "import numpy as np\n",
    "n = int (input(\"Introduce la dimensión de la matriz: \"))\n",
    "\n",
    "A=np.empty((n,n))\n",
    "for i in range(n):\n",
    "    for j in range(n):\n",
    "        A[i,j]=int(input(\"Introduce la entrada ({},{}): \".format(i,j)))\n",
    "\n",
    "Id=np.empty((n,n))\n",
    "for i in range(n):\n",
    "    for j in range(n):\n",
    "        if i != j:\n",
    "             Id[i,j]=0\n",
    "        else:\n",
    "            Id[i,j]=1\n",
    "\n",
    "if (A-Id== np.zeros((n,n))).all()==True:\n",
    "    print(\"Usted introdujo la matriz identidad\")\n",
    "else:\n",
    "    print(\"Usted no introdujo la matriz identidad\")\n",
    "   "
   ]
  },
  {
   "cell_type": "code",
   "execution_count": 164,
   "metadata": {},
   "outputs": [
    {
     "name": "stdout",
     "output_type": "stream",
     "text": [
      "Introduce el número de filas de la matriz: 3\n",
      "Introduce el número de columnas de la matriz: 1\n",
      "Introduce la entrada (0,0): 1\n",
      "Introduce la entrada (1,0): 2\n",
      "Introduce la entrada (2,0): 3\n",
      "La matriz transpuesta de la matriz\n",
      " [[1.]\n",
      " [2.]\n",
      " [3.]] \n",
      "  es \n",
      " [[1. 2. 3.]]\n"
     ]
    }
   ],
   "source": [
    "import numpy as np\n",
    "n = int (input(\"Introduce el número de filas de la matriz: \"))\n",
    "m= int (input(\"Introduce el número de columnas de la matriz: \"))\n",
    "\n",
    "A=np.empty((n,m))\n",
    "for i in range(n):\n",
    "    for j in range(m):\n",
    "        A[i,j]=int(input(\"Introduce la entrada ({},{}): \".format(i,j)))\n",
    "\n",
    "B=np.empty((m,n))\n",
    "for i in range(m):\n",
    "    for j in range(n):\n",
    "        B[i,j]=A[j,i]\n",
    "\n",
    "print(\"La matriz transpuesta de la matriz\\n {} \\n  es \\n {}\".format(A,B))"
   ]
  },
  {
   "cell_type": "code",
   "execution_count": 165,
   "metadata": {},
   "outputs": [
    {
     "name": "stdout",
     "output_type": "stream",
     "text": [
      "Introduce la dimensión: 5\n",
      "[[1. 0. 0. 0. 0.]\n",
      " [0. 1. 0. 0. 0.]\n",
      " [0. 0. 1. 0. 0.]\n",
      " [0. 0. 0. 1. 0.]\n",
      " [0. 0. 0. 0. 1.]]\n"
     ]
    }
   ],
   "source": [
    "import numpy as np\n",
    "n=int(input(\"Introduce la dimensión: \"))\n",
    "Id=np.empty((n,n))\n",
    "\n",
    "for i in range(n):\n",
    "    for j in range(n):\n",
    "        if i != j:\n",
    "             Id[i,j]=0\n",
    "        else:\n",
    "            Id[i,j]=1\n",
    "\n",
    "print(Id)\n"
   ]
  },
  {
   "cell_type": "code",
   "execution_count": null,
   "metadata": {},
   "outputs": [],
   "source": []
  }
 ],
 "metadata": {
  "kernelspec": {
   "display_name": "Python 3",
   "language": "python",
   "name": "python3"
  },
  "language_info": {
   "codemirror_mode": {
    "name": "ipython",
    "version": 3
   },
   "file_extension": ".py",
   "mimetype": "text/x-python",
   "name": "python",
   "nbconvert_exporter": "python",
   "pygments_lexer": "ipython3",
   "version": "3.8.5"
  }
 },
 "nbformat": 4,
 "nbformat_minor": 4
}
