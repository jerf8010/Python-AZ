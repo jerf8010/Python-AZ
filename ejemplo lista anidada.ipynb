{
 "cells": [
  {
   "cell_type": "code",
   "execution_count": 5,
   "metadata": {},
   "outputs": [
    {
     "name": "stdout",
     "output_type": "stream",
     "text": [
      "[['a', 'b', 'C'], [[1, 2, 3, 4, 5], 'a', 'b'], 3]\n",
      "C\n",
      "4\n"
     ]
    }
   ],
   "source": [
    "list = [[\"a\",\"b\",\"C\"],\n",
    "        [[1,2,3,4,5],\"a\",\"b\"],\n",
    "        3]\n",
    "print(list)\n",
    "print(list[0][2])\n",
    "print(list[1][0][3])"
   ]
  },
  {
   "cell_type": "code",
   "execution_count": null,
   "metadata": {},
   "outputs": [],
   "source": []
  }
 ],
 "metadata": {
  "kernelspec": {
   "display_name": "Python 3",
   "language": "python",
   "name": "python3"
  },
  "language_info": {
   "codemirror_mode": {
    "name": "ipython",
    "version": 3
   },
   "file_extension": ".py",
   "mimetype": "text/x-python",
   "name": "python",
   "nbconvert_exporter": "python",
   "pygments_lexer": "ipython3",
   "version": "3.8.5"
  }
 },
 "nbformat": 4,
 "nbformat_minor": 4
}
