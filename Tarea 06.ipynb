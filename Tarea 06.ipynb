{
 "cells": [
  {
   "cell_type": "code",
   "execution_count": 78,
   "metadata": {},
   "outputs": [
    {
     "name": "stdout",
     "output_type": "stream",
     "text": [
      "Introducir un número: 4\n"
     ]
    },
    {
     "data": {
      "text/plain": [
       "{1: 1.0, 2: 8.0, 3: 27.0, 4: 64.0}"
      ]
     },
     "execution_count": 78,
     "metadata": {},
     "output_type": "execute_result"
    }
   ],
   "source": [
    "import math\n",
    "n = int(input(\"Introducir un número: \"))\n",
    "dic = {}\n",
    "\n",
    "for i in range(1,n+1):\n",
    "    dic[i] = math.pow(i,3)\n",
    "dic"
   ]
  },
  {
   "cell_type": "code",
   "execution_count": 6,
   "metadata": {},
   "outputs": [
    {
     "name": "stdout",
     "output_type": "stream",
     "text": [
      "Introduce tu nombre: emanuel\n",
      "Introduce tu edad: 22\n",
      "Introduce tu telefono: 4445545545\n"
     ]
    },
    {
     "data": {
      "text/plain": [
       "{'nombre': 'emanuel', 'edad': 22, 'telefono': 4445545545}"
      ]
     },
     "execution_count": 6,
     "metadata": {},
     "output_type": "execute_result"
    }
   ],
   "source": [
    "name = input(\"Introduce tu nombre: \")\n",
    "age = int(input(\"Introduce tu edad: \"))\n",
    "phone = int(input(\"Introduce tu telefono: \"))\n",
    "\n",
    "dic={\"nombre\" :name, \n",
    "     \"edad\":age, \n",
    "     \"telefono\":phone}\n",
    "\n",
    "dic"
   ]
  },
  {
   "cell_type": "code",
   "execution_count": 31,
   "metadata": {},
   "outputs": [
    {
     "name": "stdout",
     "output_type": "stream",
     "text": [
      "Introduzca la palabra fin  cuando haya finalizado \n",
      "\n",
      "Introduce el articulo: arroz\n",
      "Introduce el articulo: agua\n",
      "Introduce el articulo: sopa\n",
      "Introduce el articulo: fin\n",
      "Introduzca el precio de arroz: 12\n",
      "Introduzca el precio de agua: 15\n",
      "Introduzca el precio de sopa: 30\n",
      "____________________________\n",
      "\n",
      "arroz\t12.0\n",
      "agua\t15.0\n",
      "sopa\t30.0\n",
      "Total \t 57.0\n",
      "_____________________________\n",
      "\n"
     ]
    }
   ],
   "source": [
    "print(\"Introduzca la palabra fin  cuando haya finalizado \\n\")\n",
    "\n",
    "article = \"\"\n",
    "articles = []\n",
    "list = {}\n",
    "while article != \"fin\":\n",
    "    article = input(\"Introduce el articulo: \")\n",
    "    articles.append(article)\n",
    "    \n",
    "articles.pop()\n",
    "for art in articles:\n",
    "    price = float(input(\"Introduzca el precio de {}: \".format(art)))\n",
    "    list[art] = price\n",
    "\n",
    "total = 0\n",
    "print(\"____________________________\\n\")\n",
    "for art in list:\n",
    "    print(art+\"\\t\" +str(list[art]))\n",
    "    total = total + list[art]\n",
    "    \n",
    "print(\"Total \\t {}\".format(total))\n",
    "print(\"_____________________________\\n\")"
   ]
  },
  {
   "cell_type": "code",
   "execution_count": 43,
   "metadata": {},
   "outputs": [
    {
     "name": "stdout",
     "output_type": "stream",
     "text": [
      "Introduce un número: 1\n",
      "Introduce un número: -1\n",
      "Introduce un número: 2\n",
      "Introduce un número: 0\n"
     ]
    },
    {
     "data": {
      "text/plain": [
       "{'cantidad de positivos': 2, 'cantidad de negativos': 1}"
      ]
     },
     "execution_count": 43,
     "metadata": {},
     "output_type": "execute_result"
    }
   ],
   "source": [
    "number = int(input(\"Introduce un número: \"))\n",
    "positive = 0\n",
    "negative = 0\n",
    "\n",
    "if number > 0:\n",
    "    positive += 1\n",
    "else:\n",
    "    negative += 1\n",
    "\n",
    "while number != 0:\n",
    "    number  = int(input(\"Introduce un número: \"))\n",
    "    if number > 0:\n",
    "        positive += 1\n",
    "    elif number < 0:\n",
    "        negative += 1\n",
    "\n",
    "dic = {\"cantidad de positivos\" : positive, \"cantidad de negativos\" :negative}\n",
    "dic\n",
    "\n",
    "        \n",
    "        \n",
    "        "
   ]
  },
  {
   "cell_type": "code",
   "execution_count": 44,
   "metadata": {},
   "outputs": [
    {
     "name": "stdout",
     "output_type": "stream",
     "text": [
      "Introduce un número: 1\n",
      "Introduce un número: 2\n",
      "Introduce un número: 3\n",
      "Introduce un número: 4\n",
      "Introduce un número: 5\n",
      "Introduce un número: 0\n"
     ]
    },
    {
     "data": {
      "text/plain": [
       "{'cantidad de pares': 2, 'cantidad de impares': 3}"
      ]
     },
     "execution_count": 44,
     "metadata": {},
     "output_type": "execute_result"
    }
   ],
   "source": [
    "number = int(input(\"Introduce un número: \"))\n",
    "pair = 0\n",
    "nopair = 0\n",
    "\n",
    "if number % 2 == 0:\n",
    "    pair += 1\n",
    "else:\n",
    "    nopair += 1\n",
    "        \n",
    "while number != 0:\n",
    "    number  = int(input(\"Introduce un número: \"))\n",
    "    if number % 2 == 0:\n",
    "        pair += 1\n",
    "    else:\n",
    "        nopair += 1\n",
    "\n",
    "dic = {\"cantidad de pares\" : pair-1, \"cantidad de impares\" : nopair}\n",
    "dic"
   ]
  },
  {
   "cell_type": "code",
   "execution_count": 75,
   "metadata": {},
   "outputs": [
    {
     "name": "stdout",
     "output_type": "stream",
     "text": [
      "Introduzca la cantidad de alumnos: 2\n",
      "Introduzca el nombre del alumno: emanuel\n",
      "Introduzca el nombre del alumno: lily\n",
      "Introduce la nota de emanuel: 10\n",
      "Introduce la nota de emanuel: 9\n",
      "Introduce la nota de emanuel: -1\n",
      "Introduce la nota de lily: 9\n",
      "Introduce la nota de lily: 9\n",
      "Introduce la nota de lily: 8\n",
      "Introduce la nota de lily: 8\n",
      "Introduce la nota de lily: -1\n",
      "\n",
      "emanuel\t9.5\n",
      "\n",
      "lily\t8.5\n"
     ]
    }
   ],
   "source": [
    "num_alum = int(input(\"Introduzca la cantidad de alumnos: \"))\n",
    "names = []\n",
    "list = {}\n",
    "\n",
    "for i in range(num_alum):\n",
    "    names.append(input(\"Introduzca el nombre del alumno: \"))\n",
    "    \n",
    "for name in names:\n",
    "    nota = 0\n",
    "    notas = []\n",
    "    while nota >= 0:\n",
    "        nota = float(input(\"Introduce la nota de {}: \".format(name)))\n",
    "        notas.append(nota)\n",
    "    list[name]=notas\n",
    "    \n",
    "for name in names:\n",
    "    media = sum(list[name][:-1])/(len(list[name])-1)\n",
    "    print(\"\\n\"+name+\"\\t\"+str(media))\n",
    "        "
   ]
  },
  {
   "cell_type": "code",
   "execution_count": 79,
   "metadata": {},
   "outputs": [
    {
     "name": "stdout",
     "output_type": "stream",
     "text": [
      "Introduzca un número entero positivo: 4\n"
     ]
    },
    {
     "data": {
      "text/plain": [
       "{1: '*', 2: '**', 3: '***', 4: '****'}"
      ]
     },
     "execution_count": 79,
     "metadata": {},
     "output_type": "execute_result"
    }
   ],
   "source": [
    "import math\n",
    "number = abs(int(input(\"Introduzca un número entero positivo: \")))\n",
    "\n",
    "dic = {}\n",
    "\n",
    "for i in range(1,n+1):\n",
    "    dic[i] = \"*\" * i\n",
    "dic"
   ]
  },
  {
   "cell_type": "code",
   "execution_count": 82,
   "metadata": {},
   "outputs": [
    {
     "name": "stdout",
     "output_type": "stream",
     "text": [
      "Introduce el número de palabras: 2\n",
      "Introduce la palabra: hola\n",
      "Introduce la palabra: adios\n",
      "{'hola': 4, 'adios': 5}\n"
     ]
    }
   ],
   "source": [
    "number = int(input(\"Introduce el número de palabras: \"))\n",
    "words = []\n",
    "dict = {}\n",
    "\n",
    "for i in range(number):\n",
    "    words.append(input(\"Introduce la palabra: \"))\n",
    "    dict[words[i]] = len(words[i])\n",
    "    \n",
    "print(dict)"
   ]
  },
  {
   "cell_type": "code",
   "execution_count": 85,
   "metadata": {},
   "outputs": [
    {
     "name": "stdout",
     "output_type": "stream",
     "text": [
      "Introduce el número de palabras: 2\n",
      "Introduce la palabra: hola\n",
      "Introduce la palabra: adios\n",
      "{'hola': 2, 'adios': 3}\n"
     ]
    }
   ],
   "source": [
    "number = int(input(\"Introduce el número de palabras: \"))\n",
    "words = []\n",
    "dict = {}\n",
    "\n",
    "for i in range(number):\n",
    "    words.append(input(\"Introduce la palabra: \"))\n",
    "    vocals = 0\n",
    "    for letter in words[i]:\n",
    "        if letter == \"a\" or letter == \"e\" or letter == \"i\" or letter == \"o\" or letter == \"u\":\n",
    "            vocals += 1\n",
    "    dict[words[i]]= vocals\n",
    "print(dict)"
   ]
  },
  {
   "cell_type": "code",
   "execution_count": 105,
   "metadata": {},
   "outputs": [
    {
     "name": "stdout",
     "output_type": "stream",
     "text": [
      "Introduce el número de filas: 3\n",
      "Introduce el número de columnas: 2\n",
      "Introduce la entrada (0,0): 1\n",
      "Introduce la entrada (0,1): 2\n",
      "Introduce la entrada (1,0): 3\n",
      "Introduce la entrada (1,1): 4\n",
      "Introduce la entrada (2,0): 5\n",
      "Introduce la entrada (2,1): 6\n",
      "[[1. 2.]\n",
      " [3. 4.]\n",
      " [5. 6.]]\n",
      "{'Número de filas': 3, 'Número de columnas': 2, 'fila 0': array([1., 2.]), 'fila 1': array([3., 4.]), 'fila 2': array([5., 6.])}\n"
     ]
    }
   ],
   "source": [
    "import numpy as np\n",
    "n = int(input(\"Introduce el número de filas: \"))\n",
    "m = int(input(\"Introduce el número de columnas: \"))\n",
    "A = np.empty((n,m))\n",
    "\n",
    "for i in range(n):\n",
    "    for j in range(m):\n",
    "        A[i][j]=float(input(\"Introduce la entrada ({},{}): \".format(i,j)))\n",
    "print(A)\n",
    "\n",
    "dict={\"Número de filas\":n,\"Número de columnas\":m}   \n",
    "for i in range(n):\n",
    "    dict[\"fila \"+str(i)] = A[i]\n",
    "    \n",
    "print(dict)\n"
   ]
  },
  {
   "cell_type": "code",
   "execution_count": null,
   "metadata": {},
   "outputs": [],
   "source": []
  }
 ],
 "metadata": {
  "kernelspec": {
   "display_name": "Python 3",
   "language": "python",
   "name": "python3"
  },
  "language_info": {
   "codemirror_mode": {
    "name": "ipython",
    "version": 3
   },
   "file_extension": ".py",
   "mimetype": "text/x-python",
   "name": "python",
   "nbconvert_exporter": "python",
   "pygments_lexer": "ipython3",
   "version": "3.8.5"
  }
 },
 "nbformat": 4,
 "nbformat_minor": 4
}
