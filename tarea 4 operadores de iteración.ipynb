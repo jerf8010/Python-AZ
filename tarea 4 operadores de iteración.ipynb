{
 "cells": [
  {
   "cell_type": "code",
   "execution_count": 1,
   "metadata": {},
   "outputs": [
    {
     "name": "stdout",
     "output_type": "stream",
     "text": [
      "Introduce un número: 7\n",
      "Elnúmero 7 es impar\n",
      "Introduce un número: 8\n",
      "El número 8 es par\n",
      "Introduce un número: 9\n",
      "Elnúmero 9 es impar\n",
      "Introduce un número: 10\n",
      "El número 10 es par\n",
      "Introduce un número: 0\n"
     ]
    }
   ],
   "source": [
    "n = int(input(\"Introduce un número: \"))\n",
    "while n!= 0:\n",
    "    if(n % 2 == 0):\n",
    "        print(\"El número {} es par\".format(n))\n",
    "    elif(n % 2 == 1):\n",
    "        print(\"Elnúmero {} es impar\".format(n))\n",
    "    n = int(input(\"Introduce un número: \"))\n"
   ]
  },
  {
   "cell_type": "code",
   "execution_count": 20,
   "metadata": {},
   "outputs": [
    {
     "name": "stdout",
     "output_type": "stream",
     "text": [
      "Introduce una palabra: emanuel\n",
      "Introduce una letra: x\n",
      "La palabra emanuel no contiene la letra x\n"
     ]
    }
   ],
   "source": [
    "word = input(\"Introduce una palabra: \") # REVISAR\n",
    "letter = input(\"Introduce una letra: \")\n",
    "word=word.lower()\n",
    "letter=letter.lower()\n",
    "i=0\n",
    "while letter != word[i]:\n",
    "    i += 1\n",
    "    if i == len (word):\n",
    "        break\n",
    "if i< len (word):\n",
    "    print(\"La palabra {}  contiene la letra {}\".format(word,letter))\n",
    "else:\n",
    "    print(\"La palabra {} no contiene la letra {}\".format(word,letter))"
   ]
  },
  {
   "cell_type": "code",
   "execution_count": 37,
   "metadata": {},
   "outputs": [
    {
     "name": "stdout",
     "output_type": "stream",
     "text": [
      "Introduce el precio: 150\n",
      "Introduce el precio: 49\n",
      "Introduce el precio: 0\n",
      "El costo final es 199.0\n"
     ]
    }
   ],
   "source": [
    "precio = float(input(\"Introduce el precio: \"))\n",
    "x = precio\n",
    "while precio != 0 and x <= 200:\n",
    "    precio = float(input(\"Introduce el precio: \"))\n",
    "    x = x + precio\n",
    "if precio == 0:\n",
    "    print(\"El costo final es {}\".format(x))\n",
    "elif x>200:\n",
    "    print(\"Se ha pasado del presupuesto\")\n",
    "\n",
    "        "
   ]
  },
  {
   "cell_type": "code",
   "execution_count": 40,
   "metadata": {},
   "outputs": [
    {
     "name": "stdout",
     "output_type": "stream",
     "text": [
      "Introduce un número: 7\n",
      "Introduce un número: 4\n",
      "Introduce un número: 8\n",
      "Introduce un número: 0\n",
      "Ha introducido 3 números positivos\n",
      "Ha introducido 0 números negativos\n"
     ]
    }
   ],
   "source": [
    "n = int(input(\"Introduce un número: \"))\n",
    "count_1 = 0\n",
    "count_2 = 0\n",
    "while n!= 0:\n",
    "    if n > 0:\n",
    "        count_1 += 1\n",
    "    elif n < 0:\n",
    "        count_2 += 1\n",
    "    n = int(input(\"Introduce un número: \"))\n",
    "print(\"Ha introducido {} números positivos\".format(count_1))\n",
    "print(\"Ha introducido {} números negativos\".format(count_2))"
   ]
  },
  {
   "cell_type": "code",
   "execution_count": 42,
   "metadata": {},
   "outputs": [
    {
     "name": "stdout",
     "output_type": "stream",
     "text": [
      "Introduce un número: -2\n",
      "Introduce un número: -2\n",
      "Introduce un número: 0\n",
      "La media aritmetica es -2.0\n"
     ]
    }
   ],
   "source": [
    "n = float(input(\"Introduce un número: \"))\n",
    "x = n\n",
    "count = 1\n",
    "while n!= 0:\n",
    "    x = x + n\n",
    "    count += 1\n",
    "    n = float(input(\"Introduce un número: \"))\n",
    "print(\"La media aritmetica es {}\".format(x/count))\n",
    "    "
   ]
  },
  {
   "cell_type": "code",
   "execution_count": 47,
   "metadata": {},
   "outputs": [
    {
     "name": "stdout",
     "output_type": "stream",
     "text": [
      "Introduce el extremo izquierdo del intervalo: -2\n",
      "Introduce el extremo derecho del intervalo-7\n",
      "El número -2 debe ser menor o igual que -7\n"
     ]
    }
   ],
   "source": [
    "n_1 = int(input(\"Introduce el extremo izquierdo del intervalo: \"))\n",
    "n_2 = int(input(\"Introduce el extremo derecho del intervalo\"))\n",
    "if n_1 <= n_2:\n",
    "    for c in range(n_1, n_2 + 1, 1):\n",
    "        print(c)\n",
    "else:\n",
    "    print(\"El primer número debe ser menor o igual que el segundo\")"
   ]
  },
  {
   "cell_type": "code",
   "execution_count": 49,
   "metadata": {},
   "outputs": [
    {
     "name": "stdout",
     "output_type": "stream",
     "text": [
      "Introduce el extremo izquierdo del intervalo: 2\n",
      "Introduce el extremo derecho del intervalo: 9\n",
      "18\n"
     ]
    }
   ],
   "source": [
    "n_1 = int(input(\"Introduce el extremo izquierdo del intervalo: \"))\n",
    "n_2 = int(input(\"Introduce el extremo derecho del intervalo: \"))\n",
    "x = 0\n",
    "if n_1 <= n_2:\n",
    "    for c in range(n_1, n_2+1, 1):\n",
    "        if c % 3 == 0:\n",
    "            x = x + c\n",
    "    print(x)\n",
    "else:\n",
    "    print(\"El primer número debe ser menor o igual que el segundo\")"
   ]
  },
  {
   "cell_type": "code",
   "execution_count": 65,
   "metadata": {},
   "outputs": [
    {
     "name": "stdout",
     "output_type": "stream",
     "text": [
      "Cantidad de números: 3\n",
      "Introduzca el 1° número: 0\n",
      "Introduzca el 2° número: 1\n",
      "Introduzca el 3° número: 2\n",
      "El producto es 0.0\n"
     ]
    }
   ],
   "source": [
    "n = int(input(\"Cantidad de números: \"))\n",
    "x = 1.0\n",
    "for c in range(1,n+1,1):\n",
    "    a = float(input(\"Introduzca el {}° número: \".format(c)))\n",
    "    x = x * a\n",
    "print(\"El producto es {}\".format(x))\n",
    "    "
   ]
  },
  {
   "cell_type": "code",
   "execution_count": 66,
   "metadata": {},
   "outputs": [
    {
     "name": "stdout",
     "output_type": "stream",
     "text": [
      "Introduce tu edad: 31\n",
      "Introduce el año actual: 2021\n",
      "1990\n",
      "1991\n",
      "1992\n",
      "1993\n",
      "1994\n",
      "1995\n",
      "1996\n",
      "1997\n",
      "1998\n",
      "1999\n",
      "2000\n",
      "2001\n",
      "2002\n",
      "2003\n",
      "2004\n",
      "2005\n",
      "2006\n",
      "2007\n",
      "2008\n",
      "2009\n",
      "2010\n",
      "2011\n",
      "2012\n",
      "2013\n",
      "2014\n",
      "2015\n",
      "2016\n",
      "2017\n",
      "2018\n",
      "2019\n",
      "2020\n",
      "2021\n"
     ]
    }
   ],
   "source": [
    "edad = int(input(\"Introduce tu edad: \"))\n",
    "annio_actual  = int(input(\"Introduce el año actual: \"))\n",
    "annio_nacimiento = annio_actual-edad\n",
    "\n",
    "for c in range(annio_nacimiento, annio_actual+1, 1):\n",
    "    print(c)"
   ]
  },
  {
   "cell_type": "code",
   "execution_count": 111,
   "metadata": {},
   "outputs": [
    {
     "name": "stdout",
     "output_type": "stream",
     "text": [
      "Introduce un número entero: 6\n",
      "*  \n",
      "*  *  \n",
      "*  *  *  \n",
      "*  *  *  *  \n",
      "*  *  *  *  *  \n",
      "*  *  *  *  *  *  \n",
      "\n",
      "*  *  *  *  *  *  \n",
      "*  *  *  *  *  *  \n",
      "*  *  *  *  *  *  \n",
      "*  *  *  *  *  *  \n",
      "*  *  *  *  *  *  \n",
      "*  *  *  *  *  *  \n",
      "\n"
     ]
    }
   ],
   "source": [
    "n  =int(input(\"Introduce un número entero: \"))\n",
    "cuadro = \"\"\n",
    "triang = \"\"\n",
    "\n",
    "for c in range(1, n+1, 1):\n",
    "    for d in range(1, c+1, 1):\n",
    "        triang = triang + \"*  \"\n",
    "    triang = triang + \"\\n\"\n",
    "print(triang)\n",
    "\n",
    "for c in range(1, n+1, 1):\n",
    "    for d in range(1, n+1, 1):\n",
    "        cuadro = cuadro + \"*  \"\n",
    "    cuadro = cuadro + \"\\n\"\n",
    "print(cuadro)\n",
    "\n",
    "\n",
    "\n",
    "   \n"
   ]
  },
  {
   "cell_type": "code",
   "execution_count": 112,
   "metadata": {},
   "outputs": [
    {
     "name": "stdout",
     "output_type": "stream",
     "text": [
      "Introduce un número entero: 5\n",
      "*                    * * * * * \n",
      "* *                  * * * * * \n",
      "* * *                * * * * * \n",
      "* * * *              * * * * * \n",
      "* * * * *            * * * * * \n"
     ]
    }
   ],
   "source": [
    "n  =int(input(\"Introduce un número entero: \"))\n",
    "\n",
    "for i in range(n):\n",
    "    print(\"* \" *  (i+1) + \" \" * (20- (2*i+2)+1)+ \"* \" * n)"
   ]
  },
  {
   "cell_type": "code",
   "execution_count": null,
   "metadata": {},
   "outputs": [],
   "source": []
  }
 ],
 "metadata": {
  "kernelspec": {
   "display_name": "Python 3",
   "language": "python",
   "name": "python3"
  },
  "language_info": {
   "codemirror_mode": {
    "name": "ipython",
    "version": 3
   },
   "file_extension": ".py",
   "mimetype": "text/x-python",
   "name": "python",
   "nbconvert_exporter": "python",
   "pygments_lexer": "ipython3",
   "version": "3.8.5"
  }
 },
 "nbformat": 4,
 "nbformat_minor": 4
}
