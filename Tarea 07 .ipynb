{
 "cells": [
  {
   "cell_type": "code",
   "execution_count": 4,
   "metadata": {},
   "outputs": [
    {
     "name": "stdout",
     "output_type": "stream",
     "text": [
      "Introduce un número: 10\n",
      "{1, 2, 5, -2, -10, 10, -5, -1}\n"
     ]
    }
   ],
   "source": [
    "n = int(input(\"Introduce un número: \"))\n",
    "\n",
    "div = set()\n",
    "for i in range(1,n+1):\n",
    "    if n % i == 0:\n",
    "        div.update({-i,i})\n",
    "    \n",
    "print(div)"
   ]
  },
  {
   "cell_type": "code",
   "execution_count": 13,
   "metadata": {},
   "outputs": [
    {
     "name": "stdout",
     "output_type": "stream",
     "text": [
      "El mínimo es -4\n"
     ]
    }
   ],
   "source": [
    "set_1 = {1,2,3,4,5,6,7,-1,0,3,-4}\n",
    "set_2=set_1.copy()\n",
    "\n",
    "for element_1 in set_1:\n",
    "    n = 0\n",
    "    for element_2 in set_2:\n",
    "        if element_1 <= element_2:\n",
    "            n += 1\n",
    "    if n == len(set_1):\n",
    "        min =element_1\n",
    "        \n",
    "print(\"El mínimo es {}\".format(min))\n",
    "    \n",
    "\n",
    "        "
   ]
  },
  {
   "cell_type": "code",
   "execution_count": 42,
   "metadata": {},
   "outputs": [
    {
     "name": "stdout",
     "output_type": "stream",
     "text": [
      "Introduce una frase: hola mundo maya\n",
      "Introduce una letra: m\n",
      "{'mundo', 'maya'}\n"
     ]
    }
   ],
   "source": [
    "phrase = input(\"Introduce una frase: \")\n",
    "letter = input(\"Introduce una letra: \")\n",
    "letter.lower()\n",
    "phrase.lower()\n",
    "\n",
    "set_1 = set()\n",
    "esp = phrase.split()\n",
    "\n",
    "for i in range(len(esp)):\n",
    "    if letter == esp[i][0]:\n",
    "        set_1.add(esp[i])\n",
    "        \n",
    "print(set_1)\n",
    "        \n",
    "        \n",
    "\n",
    "        \n"
   ]
  },
  {
   "cell_type": "code",
   "execution_count": 53,
   "metadata": {},
   "outputs": [
    {
     "name": "stdout",
     "output_type": "stream",
     "text": [
      "Introduce una frase: hola emanuel\n",
      " =32\n",
      "a=97\n",
      "e=101\n",
      "h=104\n",
      "l=108\n",
      "m=109\n",
      "n=110\n",
      "o=111\n",
      "u=117\n",
      "\n",
      "El caracter con el máximo valor ASCII es u\n"
     ]
    }
   ],
   "source": [
    "phrase = input(\"Introduce una frase: \")\n",
    "set_1 = set()\n",
    "\n",
    "\n",
    "for ch in phrase:\n",
    "    set_1.add(ord(ch))\n",
    "set_2 = set_1.copy()\n",
    "\n",
    "for element_1 in set_1:\n",
    "    n = 0\n",
    "    print(str(chr(element_1)) + \"=\"+ str(element_1))\n",
    "    for element_2 in set_2:\n",
    "        if element_1 >= element_2:\n",
    "            n += 1\n",
    "    if n == len(set_1):\n",
    "        maxi =element_1\n",
    "        \n",
    "print(\"\\nEl caracter con el máximo valor ASCII es {}\".format(chr(maxi)))\n",
    "    \n"
   ]
  },
  {
   "cell_type": "code",
   "execution_count": 55,
   "metadata": {},
   "outputs": [
    {
     "name": "stdout",
     "output_type": "stream",
     "text": [
      "Introduce una frase: Hola\n",
      "H=72\n",
      "a=97\n",
      "l=108\n",
      "o=111\n",
      "\n",
      "El caracter con el mínimo valor ASCII es H\n"
     ]
    }
   ],
   "source": [
    "phrase = input(\"Introduce una frase: \")\n",
    "set_1 = set()\n",
    "\n",
    "\n",
    "for ch in phrase:\n",
    "    set_1.add(ord(ch))\n",
    "set_2 = set_1.copy()\n",
    "\n",
    "for element_1 in set_1:\n",
    "    n = 0\n",
    "    print(str(chr(element_1)) + \"=\"+ str(element_1))\n",
    "    for element_2 in set_2:\n",
    "        if element_1 <= element_2:\n",
    "            n += 1\n",
    "    if n == len(set_1):\n",
    "        mini =element_1\n",
    "        \n",
    "print(\"\\nEl caracter con el mínimo valor ASCII es {}\".format(chr(mini)))\n",
    "    \n"
   ]
  },
  {
   "cell_type": "code",
   "execution_count": 57,
   "metadata": {},
   "outputs": [
    {
     "name": "stdout",
     "output_type": "stream",
     "text": [
      "Introduce una frase: hola Mundda\n",
      "Introduce una letra: a\n",
      "{'hola', 'Mundda'}\n"
     ]
    }
   ],
   "source": [
    "phrase = input(\"Introduce una frase: \")\n",
    "letter = input(\"Introduce una letra: \")\n",
    "letter.lower()\n",
    "phrase.lower()\n",
    "\n",
    "set_1 = set()\n",
    "esp = phrase.split()\n",
    "\n",
    "for i in range(len(esp)):\n",
    "    if letter in esp[i]:\n",
    "        set_1.add(esp[i])\n",
    "        \n",
    "print(set_1)\n",
    "        \n",
    "        "
   ]
  },
  {
   "cell_type": "code",
   "execution_count": 95,
   "metadata": {},
   "outputs": [
    {
     "name": "stdout",
     "output_type": "stream",
     "text": [
      "Introduce una frase: hola aztecas mayas y otros\n",
      "{'h', 'y', 'o', 'm', 'a'}\n"
     ]
    }
   ],
   "source": [
    "phrase = input(\"Introduce una frase: \")\n",
    "set_1 = set()\n",
    "list = []\n",
    "\n",
    "for i in phrase:\n",
    "    while i == \" \":\n",
    "        phrase_1 = phrase[0:phrase.find(i)]\n",
    "        phrase_2 = phrase[phrase.find(i)+1:]\n",
    "        phrase = phrase_2\n",
    "        list.append(phrase_1)\n",
    "        break\n",
    "list.append(phrase_2)        \n",
    "\n",
    "for i in range(len(list)):\n",
    "    set_1.add(list[i][0])\n",
    "\n",
    "print(set_1)\n",
    "        "
   ]
  },
  {
   "cell_type": "code",
   "execution_count": 99,
   "metadata": {},
   "outputs": [
    {
     "name": "stdout",
     "output_type": "stream",
     "text": [
      "Introduce una frase: hola calavera magica\n",
      "{'calavera', 'hola', 'magica'}\n"
     ]
    }
   ],
   "source": [
    "phrase = input(\"Introduce una frase: \")\n",
    "set_1 = set()\n",
    "list_1=phrase.split()\n",
    "\n",
    "for i in range(len(list_1)):\n",
    "    if len(list_1[i]) % 2 == 0:\n",
    "        set_1.add(list_1[i])\n",
    "        \n",
    "print(set_1)\n",
    "        "
   ]
  },
  {
   "cell_type": "code",
   "execution_count": 101,
   "metadata": {},
   "outputs": [
    {
     "name": "stdout",
     "output_type": "stream",
     "text": [
      "Introduce una frase: hola mundo arriba\n",
      "Introduce una letra: a\n",
      "{'hola', 'arriba'}\n"
     ]
    }
   ],
   "source": [
    "phrase = input(\"Introduce una frase: \")\n",
    "letter = input(\"Introduce una letra: \")\n",
    "letter.lower()\n",
    "phrase.lower()\n",
    "\n",
    "set_1 = set()\n",
    "list_1=phrase.split()\n",
    "\n",
    "for i in range(len(list_1)):\n",
    "    if letter == list_1[i][len(list_1[i])-1]:\n",
    "        set_1.add(list_1[i])\n",
    "\n",
    "print(set_1)"
   ]
  },
  {
   "cell_type": "code",
   "execution_count": 107,
   "metadata": {},
   "outputs": [
    {
     "name": "stdout",
     "output_type": "stream",
     "text": [
      "Introduce una frase: ana es ama de llaves\n",
      "El conjunto de palabras palíndromos en su frase es {'ana', 'ama'}\n"
     ]
    }
   ],
   "source": [
    "phrase = input(\"Introduce una frase: \")\n",
    "phrase.lower()\n",
    "list_1=phrase.split()\n",
    "set_1 = set()\n",
    "\n",
    "for i in range(len(list_1)):\n",
    "    inverse_word = list_1[i][::-1]\n",
    "    n = 0\n",
    "    for j in range(len(list_1[i])):\n",
    "        if list_1[i][j] == inverse_word[j]:\n",
    "            n += 1\n",
    "    if n == len(list_1[i]):\n",
    "        set_1.add(list_1[i])\n",
    "\n",
    "print(\"El conjunto de palabras palíndromos en su frase es {}\".format(set_1))\n",
    "        \n",
    "            \n",
    "    \n"
   ]
  },
  {
   "cell_type": "code",
   "execution_count": null,
   "metadata": {},
   "outputs": [],
   "source": []
  }
 ],
 "metadata": {
  "kernelspec": {
   "display_name": "Python 3",
   "language": "python",
   "name": "python3"
  },
  "language_info": {
   "codemirror_mode": {
    "name": "ipython",
    "version": 3
   },
   "file_extension": ".py",
   "mimetype": "text/x-python",
   "name": "python",
   "nbconvert_exporter": "python",
   "pygments_lexer": "ipython3",
   "version": "3.8.5"
  }
 },
 "nbformat": 4,
 "nbformat_minor": 4
}
