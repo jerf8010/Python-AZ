{
 "cells": [
  {
   "cell_type": "code",
   "execution_count": 1,
   "metadata": {},
   "outputs": [
    {
     "name": "stdout",
     "output_type": "stream",
     "text": [
      "Introduce el número de números enteros: 4\n",
      "Introduce el número: 1\n",
      "(1, 'impar')\n",
      "Introduce el número: 2\n",
      "(2, 'par')\n",
      "Introduce el número: 3\n",
      "(3, 'impar')\n",
      "Introduce el número: 4\n",
      "(4, 'par')\n"
     ]
    }
   ],
   "source": [
    "n = int(input(\"Introduce el número de números enteros: \"))\n",
    "\n",
    "for i in range(n):\n",
    "    num = int(input(\"Introduce el número: \"))\n",
    "    if num % 2 == 0:\n",
    "        print((num, \"par\"))\n",
    "    else:\n",
    "        print((num, \"impar\"))"
   ]
  },
  {
   "cell_type": "code",
   "execution_count": 4,
   "metadata": {},
   "outputs": [
    {
     "name": "stdout",
     "output_type": "stream",
     "text": [
      "Introduce el año: 1951\n",
      "(1951, 'Conejo')\n"
     ]
    }
   ],
   "source": [
    "year = int(input(\"Introduce el año: \"))\n",
    "if year % 12 == 0:\n",
    "    print((year, \"Mono\"))\n",
    "elif year % 12 == 1:\n",
    "    print((year, \"Gallo\"))\n",
    "elif year % 12 == 2:\n",
    "    print((year, \"Perro\"))\n",
    "elif year % 12 == 3:\n",
    "    print((year, \"Cerdo\"))\n",
    "elif year % 12 == 4:\n",
    "    print((year, \"Rata\"))\n",
    "elif year % 12 == 5:\n",
    "    print((year, \"Buey\"))\n",
    "elif year % 12 == 6:\n",
    "    print((year, \"Tigre\"))\n",
    "elif year % 12 == 7:\n",
    "    print((year, \"Conejo\"))\n",
    "elif year % 12 == 8:\n",
    "    print((year, \"Dragón\"))\n",
    "elif year % 12 == 9:\n",
    "    print((year, \"Serpiente\"))\n",
    "elif year % 12 == 10:\n",
    "    print((year, \"Caballo\"))\n",
    "elif year % 12 == 11:\n",
    "    print((year, \"Cabra\"))\n"
   ]
  },
  {
   "cell_type": "code",
   "execution_count": 9,
   "metadata": {},
   "outputs": [
    {
     "name": "stdout",
     "output_type": "stream",
     "text": [
      "Introduzca una frase: Hola mi nombre es Emanuel\n",
      "('Hola', 4, 'H', 0)\n",
      "('mi', 2, 'm', 1)\n",
      "('nombre', 6, 'n', 2)\n",
      "('es', 2, 'e', 3)\n",
      "('Emanuel', 7, 'E', 4)\n"
     ]
    }
   ],
   "source": [
    "phrase = input(\"Introduzca una frase: \")\n",
    "words = phrase.split()\n",
    "\n",
    "for word in words:\n",
    "    print((word, len(word), word[0], words.index(word)))"
   ]
  },
  {
   "cell_type": "code",
   "execution_count": 11,
   "metadata": {},
   "outputs": [
    {
     "name": "stdout",
     "output_type": "stream",
     "text": [
      "Introduzca una palabra: Hola\n",
      "Introduzca una palabra: Emanue\n",
      "Introduzca una palabra: como\n",
      "Introduzca una palabra: estas\n",
      "Introduzca una palabra: \n",
      "('Hola', 'Emanue', 'como', 'estas')\n",
      "La primera palabra es: Hola y la última palabra es: estas\n"
     ]
    }
   ],
   "source": [
    "word = input(\"Introduzca una palabra: \")\n",
    "list = [] \n",
    "while word != \"\":\n",
    "    list.append(word)\n",
    "    word = input(\"Introduzca una palabra: \")\n",
    "\n",
    "tuple_1 = tuple(list)\n",
    "(word_1, *algo, word_2) = tuple_1\n",
    "print(\"La primera palabra es: {} y la última palabra es: {}\".format(word_1, word_2))"
   ]
  },
  {
   "cell_type": "code",
   "execution_count": 12,
   "metadata": {},
   "outputs": [
    {
     "name": "stdout",
     "output_type": "stream",
     "text": [
      "{'hola': 4, 'Adios': 5, 'casa': 4, 'Python': 6, 'Programación': 12}\n"
     ]
    }
   ],
   "source": [
    "words = [\"hola\", \"Adios\", \"casa\", \"Python\", \"Programación\"]\n",
    "lenght = [len(words[0]),len(words[1]),len(words[2]),len(words[3]),len(words[4])]\n",
    "\n",
    "dic = dict(zip(words, lenght))\n",
    "print(dic)"
   ]
  },
  {
   "cell_type": "code",
   "execution_count": 13,
   "metadata": {},
   "outputs": [
    {
     "name": "stdout",
     "output_type": "stream",
     "text": [
      "Introduzca una palabra: hola\n",
      "Introduzca una palabra: emanuel\n",
      "Introduzca una palabra: como\n",
      "Introduzca una palabra: estas\n",
      "Introduzca una palabra: \n",
      "Las palabras introducidas fueron: ('hola', 'emanuel', 'como', 'estas') y se introdujeron 20 caracteres en total\n"
     ]
    }
   ],
   "source": [
    "word = input(\"Introduzca una palabra: \")\n",
    "list = [] \n",
    "\n",
    "while word != \"\":\n",
    "    list.append(word)\n",
    "    word = input(\"Introduzca una palabra: \")\n",
    "    \n",
    "tuple_1 = tuple(list)\n",
    "\n",
    "n = 0\n",
    "for word in tuple_1:\n",
    "    n += len(word)\n",
    "    \n",
    "print(\"Las palabras introducidas fueron: {} y se introdujeron {} caracteres en total\".format(tuple_1, n))"
   ]
  },
  {
   "cell_type": "code",
   "execution_count": 36,
   "metadata": {},
   "outputs": [
    {
     "name": "stdout",
     "output_type": "stream",
     "text": [
      "\n",
      "*** La tabla del 1 es:  ***\n",
      "1x1=1\n",
      "1x2=2\n",
      "1x3=3\n",
      "1x4=4\n",
      "1x5=5\n",
      "1x6=6\n",
      "1x7=7\n",
      "1x8=8\n",
      "1x9=9\n",
      "1x10=10\n",
      "\n",
      "*** La tabla del 2 es:  ***\n",
      "2x1=2\n",
      "2x2=4\n",
      "2x3=6\n",
      "2x4=8\n",
      "2x5=10\n",
      "2x6=12\n",
      "2x7=14\n",
      "2x8=16\n",
      "2x9=18\n",
      "2x10=20\n",
      "\n",
      "*** La tabla del 3 es:  ***\n",
      "3x1=3\n",
      "3x2=6\n",
      "3x3=9\n",
      "3x4=12\n",
      "3x5=15\n",
      "3x6=18\n",
      "3x7=21\n",
      "3x8=24\n",
      "3x9=27\n",
      "3x10=30\n",
      "\n",
      "*** La tabla del 4 es:  ***\n",
      "4x1=4\n",
      "4x2=8\n",
      "4x3=12\n",
      "4x4=16\n",
      "4x5=20\n",
      "4x6=24\n",
      "4x7=28\n",
      "4x8=32\n",
      "4x9=36\n",
      "4x10=40\n",
      "\n",
      "*** La tabla del 5 es:  ***\n",
      "5x1=5\n",
      "5x2=10\n",
      "5x3=15\n",
      "5x4=20\n",
      "5x5=25\n",
      "5x6=30\n",
      "5x7=35\n",
      "5x8=40\n",
      "5x9=45\n",
      "5x10=50\n",
      "\n",
      "*** La tabla del 6 es:  ***\n",
      "6x1=6\n",
      "6x2=12\n",
      "6x3=18\n",
      "6x4=24\n",
      "6x5=30\n",
      "6x6=36\n",
      "6x7=42\n",
      "6x8=48\n",
      "6x9=54\n",
      "6x10=60\n",
      "\n",
      "*** La tabla del 7 es:  ***\n",
      "7x1=7\n",
      "7x2=14\n",
      "7x3=21\n",
      "7x4=28\n",
      "7x5=35\n",
      "7x6=42\n",
      "7x7=49\n",
      "7x8=56\n",
      "7x9=63\n",
      "7x10=70\n",
      "\n",
      "*** La tabla del 8 es:  ***\n",
      "8x1=8\n",
      "8x2=16\n",
      "8x3=24\n",
      "8x4=32\n",
      "8x5=40\n",
      "8x6=48\n",
      "8x7=56\n",
      "8x8=64\n",
      "8x9=72\n",
      "8x10=80\n",
      "\n",
      "*** La tabla del 9 es:  ***\n",
      "9x1=9\n",
      "9x2=18\n",
      "9x3=27\n",
      "9x4=36\n",
      "9x5=45\n",
      "9x6=54\n",
      "9x7=63\n",
      "9x8=72\n",
      "9x9=81\n",
      "9x10=90\n",
      "\n",
      "*** La tabla del 10 es:  ***\n",
      "10x1=10\n",
      "10x2=20\n",
      "10x3=30\n",
      "10x4=40\n",
      "10x5=50\n",
      "10x6=60\n",
      "10x7=70\n",
      "10x8=80\n",
      "10x9=90\n",
      "10x10=100\n",
      "\n",
      "*** La tabla del 11 es:  ***\n",
      "11x1=11\n",
      "11x2=22\n",
      "11x3=33\n",
      "11x4=44\n",
      "11x5=55\n",
      "11x6=66\n",
      "11x7=77\n",
      "11x8=88\n",
      "11x9=99\n",
      "11x10=110\n",
      "\n",
      "*** La tabla del 12 es:  ***\n",
      "12x1=12\n",
      "12x2=24\n",
      "12x3=36\n",
      "12x4=48\n",
      "12x5=60\n",
      "12x6=72\n",
      "12x7=84\n",
      "12x8=96\n",
      "12x9=108\n",
      "12x10=120\n",
      "\n",
      "*** La tabla del 13 es:  ***\n",
      "13x1=13\n",
      "13x2=26\n",
      "13x3=39\n",
      "13x4=52\n",
      "13x5=65\n",
      "13x6=78\n",
      "13x7=91\n",
      "13x8=104\n",
      "13x9=117\n",
      "13x10=130\n",
      "\n",
      "*** La tabla del 14 es:  ***\n",
      "14x1=14\n",
      "14x2=28\n",
      "14x3=42\n",
      "14x4=56\n",
      "14x5=70\n",
      "14x6=84\n",
      "14x7=98\n",
      "14x8=112\n",
      "14x9=126\n",
      "14x10=140\n",
      "\n",
      "*** La tabla del 15 es:  ***\n",
      "15x1=15\n",
      "15x2=30\n",
      "15x3=45\n",
      "15x4=60\n",
      "15x5=75\n",
      "15x6=90\n",
      "15x7=105\n",
      "15x8=120\n",
      "15x9=135\n",
      "15x10=150\n",
      "\n",
      "*** La tabla del 16 es:  ***\n",
      "16x1=16\n",
      "16x2=32\n",
      "16x3=48\n",
      "16x4=64\n",
      "16x5=80\n",
      "16x6=96\n",
      "16x7=112\n",
      "16x8=128\n",
      "16x9=144\n",
      "16x10=160\n",
      "\n",
      "*** La tabla del 17 es:  ***\n",
      "17x1=17\n",
      "17x2=34\n",
      "17x3=51\n",
      "17x4=68\n",
      "17x5=85\n",
      "17x6=102\n",
      "17x7=119\n",
      "17x8=136\n",
      "17x9=153\n",
      "17x10=170\n",
      "\n",
      "*** La tabla del 18 es:  ***\n",
      "18x1=18\n",
      "18x2=36\n",
      "18x3=54\n",
      "18x4=72\n",
      "18x5=90\n",
      "18x6=108\n",
      "18x7=126\n",
      "18x8=144\n",
      "18x9=162\n",
      "18x10=180\n",
      "\n",
      "*** La tabla del 19 es:  ***\n",
      "19x1=19\n",
      "19x2=38\n",
      "19x3=57\n",
      "19x4=76\n",
      "19x5=95\n",
      "19x6=114\n",
      "19x7=133\n",
      "19x8=152\n",
      "19x9=171\n",
      "19x10=190\n",
      "\n",
      "*** La tabla del 20 es:  ***\n",
      "20x1=20\n",
      "20x2=40\n",
      "20x3=60\n",
      "20x4=80\n",
      "20x5=100\n",
      "20x6=120\n",
      "20x7=140\n",
      "20x8=160\n",
      "20x9=180\n",
      "20x10=200\n"
     ]
    }
   ],
   "source": [
    "list_1 = []\n",
    "mult = []\n",
    "\n",
    "for i in range(1, 21):\n",
    "    for j in range(1, 11):\n",
    "        n = i * j\n",
    "        mult.append(n)\n",
    "    list_1.append((i, mult))\n",
    "    mult = []\n",
    "\n",
    "for (num_1, num_2) in list_1:\n",
    "    print(\"\\n*** La tabla del {} es:  ***\".format(num_1))\n",
    "    for i in range(1,11):\n",
    "        print(str(num_1)+ \"x\" + str(i) + \"=\"+ str(num_2[i-1]) )\n",
    "    "
   ]
  },
  {
   "cell_type": "code",
   "execution_count": 37,
   "metadata": {},
   "outputs": [
    {
     "name": "stdout",
     "output_type": "stream",
     "text": [
      "Introduce el primer número entero: 8\n",
      "Introduce el segundo número entero: 7\n",
      "(8, 7, 1, 1)\n"
     ]
    }
   ],
   "source": [
    "num_1 = int(input(\"Introduce el primer número entero: \"))\n",
    "num_2 = int(input(\"Introduce el segundo número entero: \"))\n",
    "\n",
    "if num_1 < num_2:\n",
    "    print(\"El primer número debe ser mayor que el segundo\")\n",
    "else:\n",
    "    tuple_1 = (num_1, num_2, num_1 // num_2, num_1 % num_2)\n",
    "\n",
    "print(tuple_1)"
   ]
  },
  {
   "cell_type": "code",
   "execution_count": 40,
   "metadata": {},
   "outputs": [
    {
     "name": "stdout",
     "output_type": "stream",
     "text": [
      "Introduce un número entre 0 y 360: 360\n",
      "(360, 6.283185307179586)\n",
      "Introduce un número entre 0 y 360: 90\n",
      "(90, 1.5707963267948966)\n",
      "Introduce un número entre 0 y 360: 180\n",
      "(180, 3.141592653589793)\n",
      "Introduce un número entre 0 y 360: \n"
     ]
    }
   ],
   "source": [
    "n = input(\"Introduce un número entre 0 y 360: \")\n",
    "\n",
    "while str(n) != \"\":\n",
    "    n = int(n)\n",
    "    conv = (n, 2* 3.141592653589793* n /360)\n",
    "    print(conv)\n",
    "    n = input(\"Introduce un número entre 0 y 360: \")\n",
    "    "
   ]
  },
  {
   "cell_type": "code",
   "execution_count": 47,
   "metadata": {},
   "outputs": [
    {
     "name": "stdout",
     "output_type": "stream",
     "text": [
      "Introduzca un número complejo: 1+3j\n",
      "((1+3j), (-1-3j), (1-3j))\n",
      "Introduzca un número complejo: \n"
     ]
    }
   ],
   "source": [
    "import cmath\n",
    "complex_num = input(\"Introduzca un número complejo: \")\n",
    "\n",
    "while str(complex_num) != \"\":\n",
    "    complex_num = complex(complex_num)\n",
    "    tuple_1 = (complex_num, -complex_num, complex_num.conjugate())\n",
    "    print(tuple_1)\n",
    "    complex_num = input(\"Introduzca un número complejo: \")\n",
    "    "
   ]
  },
  {
   "cell_type": "code",
   "execution_count": null,
   "metadata": {},
   "outputs": [],
   "source": []
  }
 ],
 "metadata": {
  "kernelspec": {
   "display_name": "Python 3",
   "language": "python",
   "name": "python3"
  },
  "language_info": {
   "codemirror_mode": {
    "name": "ipython",
    "version": 3
   },
   "file_extension": ".py",
   "mimetype": "text/x-python",
   "name": "python",
   "nbconvert_exporter": "python",
   "pygments_lexer": "ipython3",
   "version": "3.8.5"
  }
 },
 "nbformat": 4,
 "nbformat_minor": 4
}
