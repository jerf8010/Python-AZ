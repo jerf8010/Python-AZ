{
 "cells": [
  {
   "cell_type": "code",
   "execution_count": 179,
   "id": "165635f5",
   "metadata": {},
   "outputs": [],
   "source": [
    "class Date:\n",
    "    \n",
    "    # Ejercicio 1\n",
    "    def __init__(self, day, month, year):\n",
    "        self.day = day\n",
    "        self.month = month\n",
    "        self.year = year\n",
    "        \n",
    "        \n",
    "            \n",
    "        \n",
    "    # Ejercicio 2\n",
    "    def __str__(self):\n",
    "        if self.validDate() == True:\n",
    "            if self.day < 10:\n",
    "                d = \"0\" + str(self.day)\n",
    "            elif self.day >= 10:\n",
    "                d = str(self.day)\n",
    "        else:\n",
    "            return \"¡¡¡El dia introducido no es válido!!!\"\n",
    "            \n",
    "            \n",
    "        if self.validDate() == True:\n",
    "            if self.month < 10:\n",
    "                m = \"0\" + str(self.month)\n",
    "            elif self.month >= 10:\n",
    "                m = str(self.month)\n",
    "        else:\n",
    "            return \"¡¡¡El mes introducido no es válido!!!\"\n",
    "            \n",
    "            \n",
    "        if self.year >= 0:\n",
    "            if self.year < 10:\n",
    "                a = \"000\"+str(self.year)\n",
    "            elif self.year < 100:\n",
    "                a = \"00\" + str(self.year)\n",
    "            elif self.year < 1000:\n",
    "                a = \"0\" + str(self.year)\n",
    "            else:\n",
    "                a = str(self.year)\n",
    "            return d + \"/\" + m + \"/\" + a\n",
    "        else:\n",
    "            if abs(self.year) < 10:\n",
    "                a = \"--000\"+str(abs(self.year))\n",
    "            elif abs(self.year) < 100:\n",
    "                a = \"00\" + str(abs(self.year))\n",
    "            elif abs(self.year) < 1000:\n",
    "                a = \"-0\" + str(abs(self.year))\n",
    "            else:\n",
    "                a = str(self.year)\n",
    "            return d + \"/\" + m + \"/\" + a\n",
    "    \n",
    "    # Ejercicio 3\n",
    "    def isLeap(self):\n",
    "        if (abs(self.year) < 100):\n",
    "            if self.year % 4 == 0:\n",
    "                return True\n",
    "            else:\n",
    "                return False\n",
    "        else:\n",
    "            if self.year % 400 == 0:\n",
    "                return True\n",
    "            elif (self.year % 4 == 0) & (self.year % 100 != 0):\n",
    "                return True\n",
    "            else:\n",
    "                return False\n",
    "                \n",
    "    # Ejercicio 4\n",
    "    def totalMonth(self):\n",
    "        month1 = [1, 3, 5, 7, 8, 10, 12]\n",
    "        month2 = [4, 6, 9, 11]\n",
    "        \n",
    "        if self.month == 2:\n",
    "            if(self.isLeap() == False):\n",
    "                return 28\n",
    "            else:\n",
    "                return 29\n",
    "            \n",
    "        if self.month in month1:\n",
    "            return 31\n",
    "        elif self.month in month2:\n",
    "            return 31\n",
    "        \n",
    "    def validDate(self):\n",
    "        \n",
    "        if((self.day > 31) | (self.day < 1)) | ((self.month > 12) | (self.month < 1)):\n",
    "            return False\n",
    "        else:\n",
    "            return True\n",
    "    \n",
    "    # Ejercicio 5\n",
    "    def monthName(self):\n",
    "        \n",
    "        if self.month == 1:\n",
    "            return \"January\"\n",
    "        elif self.month == 2:\n",
    "            return \"February\"\n",
    "        elif self.month == 3:\n",
    "            return \"March\"\n",
    "        elif self.month == 4:\n",
    "            return \"April\"\n",
    "        elif self.month == 5:\n",
    "            return \"May\"\n",
    "        elif self.month == 6:\n",
    "            return \"June\"\n",
    "        elif self.month == 7:\n",
    "            return \"July\"\n",
    "        elif self.month == 8:\n",
    "            return \"August\"\n",
    "        elif self.month == 9:\n",
    "            return \"September\"\n",
    "        elif self.month == 10:\n",
    "            return \"October\"\n",
    "        elif self.month == 11:\n",
    "            return \"November\"\n",
    "        elif self.month == 12:\n",
    "            return \"December\"\n",
    "        else:\n",
    "            return \"¡¡¡El mes introducido no es válido!!!\"\n",
    "        \n",
    "    # Ejercicio 6\n",
    "    @staticmethod\n",
    "    def areEqual(date1, date2):\n",
    "        if (date1.day == date2.day) & (date1.month == date2.month) & (date1.year == date2.year):\n",
    "            return True\n",
    "        else:\n",
    "            return False\n",
    "    \n",
    "    @staticmethod\n",
    "    def isLater(date1, date2):\n",
    "        if date1.year > date2.year:\n",
    "            return True\n",
    "        elif date1.year == date2.year:\n",
    "            if date1.month > date2.month:\n",
    "                return True\n",
    "            elif date1.month == date2.month:\n",
    "                if date1.day > date2.day:\n",
    "                    return True\n",
    "                elif date1.day == date2.day:\n",
    "                    return False\n",
    "                else:\n",
    "                    return False\n",
    "            else:\n",
    "                return False\n",
    "        else:\n",
    "            return False\n",
    "           \n",
    "        \n",
    "\n",
    "    @staticmethod\n",
    "    def isPrevious(date1, date2):\n",
    "        if Date.isLater(date1, date2) == True:\n",
    "            return False\n",
    "        else:\n",
    "            return True\n",
    "        \n",
    "        \n",
    "        \n",
    "            \n",
    "            \n",
    "            \n",
    "                \n",
    "        "
   ]
  },
  {
   "cell_type": "code",
   "execution_count": 156,
   "id": "499fe0cf",
   "metadata": {},
   "outputs": [
    {
     "data": {
      "text/plain": [
       "'08/07/1998'"
      ]
     },
     "execution_count": 156,
     "metadata": {},
     "output_type": "execute_result"
    }
   ],
   "source": [
    "date = Date(8, 7, 1998)\n",
    "str(date)"
   ]
  },
  {
   "cell_type": "code",
   "execution_count": 157,
   "id": "df61d595",
   "metadata": {},
   "outputs": [
    {
     "data": {
      "text/plain": [
       "False"
      ]
     },
     "execution_count": 157,
     "metadata": {},
     "output_type": "execute_result"
    }
   ],
   "source": [
    "date.isLeap()\n"
   ]
  },
  {
   "cell_type": "code",
   "execution_count": 158,
   "id": "7e159f79",
   "metadata": {},
   "outputs": [
    {
     "data": {
      "text/plain": [
       "31"
      ]
     },
     "execution_count": 158,
     "metadata": {},
     "output_type": "execute_result"
    }
   ],
   "source": [
    "date.totalMonth()"
   ]
  },
  {
   "cell_type": "code",
   "execution_count": 159,
   "id": "a0ef6942",
   "metadata": {},
   "outputs": [
    {
     "data": {
      "text/plain": [
       "True"
      ]
     },
     "execution_count": 159,
     "metadata": {},
     "output_type": "execute_result"
    }
   ],
   "source": [
    "date.validDate()"
   ]
  },
  {
   "cell_type": "code",
   "execution_count": 160,
   "id": "ad6c403e",
   "metadata": {},
   "outputs": [
    {
     "data": {
      "text/plain": [
       "'July'"
      ]
     },
     "execution_count": 160,
     "metadata": {},
     "output_type": "execute_result"
    }
   ],
   "source": [
    "date.monthName()"
   ]
  },
  {
   "cell_type": "code",
   "execution_count": 166,
   "id": "2a459031",
   "metadata": {},
   "outputs": [
    {
     "data": {
      "text/plain": [
       "True"
      ]
     },
     "execution_count": 166,
     "metadata": {},
     "output_type": "execute_result"
    }
   ],
   "source": [
    "date1 = Date(7, 12, 1990)\n",
    "date2 = Date(7, 12, 1990)\n",
    "\n",
    "Date.areEqual(date1, date2)"
   ]
  },
  {
   "cell_type": "code",
   "execution_count": 180,
   "id": "9b4abf8b",
   "metadata": {},
   "outputs": [
    {
     "data": {
      "text/plain": [
       "True"
      ]
     },
     "execution_count": 180,
     "metadata": {},
     "output_type": "execute_result"
    }
   ],
   "source": [
    "date3 = Date(3,5, 1990)\n",
    "date4 = Date(4, 5, 1990)\n",
    "Date.isLater(date4, date3)"
   ]
  },
  {
   "cell_type": "code",
   "execution_count": 182,
   "id": "fecbb950",
   "metadata": {},
   "outputs": [
    {
     "data": {
      "text/plain": [
       "True"
      ]
     },
     "execution_count": 182,
     "metadata": {},
     "output_type": "execute_result"
    }
   ],
   "source": [
    "Date.isPrevious(date3, date4)"
   ]
  }
 ],
 "metadata": {
  "kernelspec": {
   "display_name": "Python 3",
   "language": "python",
   "name": "python3"
  },
  "language_info": {
   "codemirror_mode": {
    "name": "ipython",
    "version": 3
   },
   "file_extension": ".py",
   "mimetype": "text/x-python",
   "name": "python",
   "nbconvert_exporter": "python",
   "pygments_lexer": "ipython3",
   "version": "3.8.10"
  }
 },
 "nbformat": 4,
 "nbformat_minor": 5
}
